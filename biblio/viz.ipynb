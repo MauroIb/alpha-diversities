{
 "cells": [
  {
   "cell_type": "code",
   "execution_count": 12,
   "metadata": {},
   "outputs": [
    {
     "data": {
      "text/html": [
       "<div>\n",
       "<style scoped>\n",
       "    .dataframe tbody tr th:only-of-type {\n",
       "        vertical-align: middle;\n",
       "    }\n",
       "\n",
       "    .dataframe tbody tr th {\n",
       "        vertical-align: top;\n",
       "    }\n",
       "\n",
       "    .dataframe thead th {\n",
       "        text-align: right;\n",
       "    }\n",
       "</style>\n",
       "<table border=\"1\" class=\"dataframe\">\n",
       "  <thead>\n",
       "    <tr style=\"text-align: right;\">\n",
       "      <th></th>\n",
       "      <th>Cod</th>\n",
       "      <th>Link</th>\n",
       "      <th>Chao1</th>\n",
       "      <th>Shannon</th>\n",
       "      <th>Observed</th>\n",
       "      <th>Simpson</th>\n",
       "      <th>Jost</th>\n",
       "      <th>Berger-Parker</th>\n",
       "      <th>ACE</th>\n",
       "      <th>Reyni</th>\n",
       "      <th>Faith</th>\n",
       "      <th>fisher</th>\n",
       "      <th>Gini</th>\n",
       "      <th>Pielou</th>\n",
       "      <th>Magalef</th>\n",
       "    </tr>\n",
       "  </thead>\n",
       "  <tbody>\n",
       "    <tr>\n",
       "      <th>0</th>\n",
       "      <td>1</td>\n",
       "      <td>Gut Microbiota and Dietary Intake of Normal-We...</td>\n",
       "      <td>1.0</td>\n",
       "      <td>1.0</td>\n",
       "      <td>NaN</td>\n",
       "      <td>NaN</td>\n",
       "      <td>NaN</td>\n",
       "      <td>NaN</td>\n",
       "      <td>NaN</td>\n",
       "      <td>NaN</td>\n",
       "      <td>NaN</td>\n",
       "      <td>NaN</td>\n",
       "      <td>NaN</td>\n",
       "      <td>NaN</td>\n",
       "      <td>NaN</td>\n",
       "    </tr>\n",
       "    <tr>\n",
       "      <th>1</th>\n",
       "      <td>2</td>\n",
       "      <td>Response of the Human Milk Microbiota to a Mat...</td>\n",
       "      <td>2.0</td>\n",
       "      <td>2.0</td>\n",
       "      <td>2.0</td>\n",
       "      <td>NaN</td>\n",
       "      <td>NaN</td>\n",
       "      <td>NaN</td>\n",
       "      <td>NaN</td>\n",
       "      <td>NaN</td>\n",
       "      <td>NaN</td>\n",
       "      <td>NaN</td>\n",
       "      <td>NaN</td>\n",
       "      <td>NaN</td>\n",
       "      <td>NaN</td>\n",
       "    </tr>\n",
       "    <tr>\n",
       "      <th>2</th>\n",
       "      <td>3</td>\n",
       "      <td>Using compositional principal component analys...</td>\n",
       "      <td>NaN</td>\n",
       "      <td>3.0</td>\n",
       "      <td>NaN</td>\n",
       "      <td>NaN</td>\n",
       "      <td>NaN</td>\n",
       "      <td>NaN</td>\n",
       "      <td>NaN</td>\n",
       "      <td>NaN</td>\n",
       "      <td>NaN</td>\n",
       "      <td>NaN</td>\n",
       "      <td>NaN</td>\n",
       "      <td>NaN</td>\n",
       "      <td>NaN</td>\n",
       "    </tr>\n",
       "    <tr>\n",
       "      <th>3</th>\n",
       "      <td>4</td>\n",
       "      <td>Structured exercise alters the gut microbiota ...</td>\n",
       "      <td>NaN</td>\n",
       "      <td>4.0</td>\n",
       "      <td>4.0</td>\n",
       "      <td>NaN</td>\n",
       "      <td>NaN</td>\n",
       "      <td>NaN</td>\n",
       "      <td>NaN</td>\n",
       "      <td>NaN</td>\n",
       "      <td>NaN</td>\n",
       "      <td>NaN</td>\n",
       "      <td>NaN</td>\n",
       "      <td>NaN</td>\n",
       "      <td>NaN</td>\n",
       "    </tr>\n",
       "    <tr>\n",
       "      <th>4</th>\n",
       "      <td>5</td>\n",
       "      <td>Longitudinal gut microbiome changes in alcohol...</td>\n",
       "      <td>NaN</td>\n",
       "      <td>5.0</td>\n",
       "      <td>NaN</td>\n",
       "      <td>NaN</td>\n",
       "      <td>NaN</td>\n",
       "      <td>NaN</td>\n",
       "      <td>NaN</td>\n",
       "      <td>NaN</td>\n",
       "      <td>NaN</td>\n",
       "      <td>NaN</td>\n",
       "      <td>NaN</td>\n",
       "      <td>NaN</td>\n",
       "      <td>NaN</td>\n",
       "    </tr>\n",
       "  </tbody>\n",
       "</table>\n",
       "</div>"
      ],
      "text/plain": [
       "   Cod                                               Link  Chao1  Shannon  \\\n",
       "0    1  Gut Microbiota and Dietary Intake of Normal-We...    1.0      1.0   \n",
       "1    2  Response of the Human Milk Microbiota to a Mat...    2.0      2.0   \n",
       "2    3  Using compositional principal component analys...    NaN      3.0   \n",
       "3    4  Structured exercise alters the gut microbiota ...    NaN      4.0   \n",
       "4    5  Longitudinal gut microbiome changes in alcohol...    NaN      5.0   \n",
       "\n",
       "   Observed  Simpson  Jost  Berger-Parker  ACE  Reyni  Faith  fisher  Gini  \\\n",
       "0       NaN      NaN   NaN            NaN  NaN    NaN    NaN     NaN   NaN   \n",
       "1       2.0      NaN   NaN            NaN  NaN    NaN    NaN     NaN   NaN   \n",
       "2       NaN      NaN   NaN            NaN  NaN    NaN    NaN     NaN   NaN   \n",
       "3       4.0      NaN   NaN            NaN  NaN    NaN    NaN     NaN   NaN   \n",
       "4       NaN      NaN   NaN            NaN  NaN    NaN    NaN     NaN   NaN   \n",
       "\n",
       "   Pielou  Magalef  \n",
       "0     NaN      NaN  \n",
       "1     NaN      NaN  \n",
       "2     NaN      NaN  \n",
       "3     NaN      NaN  \n",
       "4     NaN      NaN  "
      ]
     },
     "metadata": {},
     "output_type": "display_data"
    }
   ],
   "source": [
    "import pandas as pd\n",
    "\n",
    "source_df = pd.read_csv('references.tsv', sep = '\\t')\n",
    "display(source_df.head())"
   ]
  },
  {
   "cell_type": "code",
   "execution_count": 8,
   "metadata": {},
   "outputs": [
    {
     "data": {
      "application/vnd.plotly.v1+json": {
       "config": {
        "plotlyServerURL": "https://plot.ly"
       },
       "data": [
        {
         "hoverinfo": "y+name",
         "line": {
          "width": 0.5
         },
         "marker": {
          "color": "rgb(0,116,217)"
         },
         "mode": "lines",
         "name": "Col Cluster 0",
         "type": "scatter",
         "x": [
          5,
          5,
          36.23046875,
          36.23046875
         ],
         "xaxis": "x3",
         "y": [
          0,
          295.3286305118418,
          295.3286305118418,
          239.22165453821273
         ],
         "yaxis": "y3"
        },
        {
         "hoverinfo": "y+name",
         "line": {
          "width": 0.5
         },
         "marker": {
          "color": "rgb(0,116,217)"
         },
         "mode": "lines",
         "name": "Col Cluster 1",
         "type": "scatter",
         "x": [
          15,
          15,
          25,
          25
         ],
         "xaxis": "x3",
         "y": [
          0,
          161.29476122924763,
          161.29476122924763,
          0
         ],
         "yaxis": "y3"
        },
        {
         "hoverinfo": "y+name",
         "line": {
          "width": 0.5
         },
         "marker": {
          "color": "rgb(0,116,217)"
         },
         "mode": "lines",
         "name": "Col Cluster 2",
         "type": "scatter",
         "x": [
          20,
          20,
          52.4609375,
          52.4609375
         ],
         "xaxis": "x3",
         "y": [
          161.29476122924763,
          239.22165453821273,
          239.22165453821273,
          226.09511272913443
         ],
         "yaxis": "y3"
        },
        {
         "hoverinfo": "y+name",
         "line": {
          "width": 0.5
         },
         "marker": {
          "color": "rgb(0,116,217)"
         },
         "mode": "lines",
         "name": "Col Cluster 3",
         "type": "scatter",
         "x": [
          35,
          35,
          45,
          45
         ],
         "xaxis": "x3",
         "y": [
          0,
          160.50545162080945,
          160.50545162080945,
          0
         ],
         "yaxis": "y3"
        },
        {
         "hoverinfo": "y+name",
         "line": {
          "width": 0.5
         },
         "marker": {
          "color": "rgb(0,116,217)"
         },
         "mode": "lines",
         "name": "Col Cluster 4",
         "type": "scatter",
         "x": [
          40,
          40,
          64.921875,
          64.921875
         ],
         "xaxis": "x3",
         "y": [
          160.50545162080945,
          226.09511272913443,
          226.09511272913443,
          209.8952119511067
         ],
         "yaxis": "y3"
        },
        {
         "hoverinfo": "y+name",
         "line": {
          "width": 0.5
         },
         "marker": {
          "color": "rgb(0,116,217)"
         },
         "mode": "lines",
         "name": "Col Cluster 5",
         "type": "scatter",
         "x": [
          55,
          55,
          74.84375,
          74.84375
         ],
         "xaxis": "x3",
         "y": [
          0,
          209.8952119511067,
          209.8952119511067,
          151.3968295572929
         ],
         "yaxis": "y3"
        },
        {
         "hoverinfo": "y+name",
         "line": {
          "width": 0.5
         },
         "marker": {
          "color": "rgb(0,116,217)"
         },
         "mode": "lines",
         "name": "Col Cluster 6",
         "type": "scatter",
         "x": [
          65,
          65,
          84.6875,
          84.6875
         ],
         "xaxis": "x3",
         "y": [
          0,
          151.3968295572929,
          151.3968295572929,
          124.71166745737946
         ],
         "yaxis": "y3"
        },
        {
         "hoverinfo": "y+name",
         "line": {
          "width": 0.5
         },
         "marker": {
          "color": "rgb(0,116,217)"
         },
         "mode": "lines",
         "name": "Col Cluster 7",
         "type": "scatter",
         "x": [
          75,
          75,
          94.375,
          94.375
         ],
         "xaxis": "x3",
         "y": [
          0,
          124.71166745737946,
          124.71166745737946,
          102.79105019407089
         ],
         "yaxis": "y3"
        },
        {
         "hoverinfo": "y+name",
         "line": {
          "width": 0.5
         },
         "marker": {
          "color": "rgb(0,116,217)"
         },
         "mode": "lines",
         "name": "Col Cluster 8",
         "type": "scatter",
         "x": [
          85,
          85,
          103.75,
          103.75
         ],
         "xaxis": "x3",
         "y": [
          0,
          102.79105019407089,
          102.79105019407089,
          77.12976079309465
         ],
         "yaxis": "y3"
        },
        {
         "hoverinfo": "y+name",
         "line": {
          "width": 0.5
         },
         "marker": {
          "color": "rgb(0,116,217)"
         },
         "mode": "lines",
         "name": "Col Cluster 9",
         "type": "scatter",
         "x": [
          95,
          95,
          112.5,
          112.5
         ],
         "xaxis": "x3",
         "y": [
          0,
          77.12976079309465,
          77.12976079309465,
          52.839379254491625
         ],
         "yaxis": "y3"
        },
        {
         "hoverinfo": "y+name",
         "line": {
          "width": 0.5
         },
         "marker": {
          "color": "rgb(0,116,217)"
         },
         "mode": "lines",
         "name": "Col Cluster 10",
         "type": "scatter",
         "x": [
          105,
          105,
          120,
          120
         ],
         "xaxis": "x3",
         "y": [
          0,
          52.839379254491625,
          52.839379254491625,
          44.96665431183423
         ],
         "yaxis": "y3"
        },
        {
         "hoverinfo": "y+name",
         "line": {
          "width": 0.5
         },
         "marker": {
          "color": "rgb(0,116,217)"
         },
         "mode": "lines",
         "name": "Col Cluster 11",
         "type": "scatter",
         "x": [
          115,
          115,
          125,
          125
         ],
         "xaxis": "x3",
         "y": [
          0,
          44.96665431183423,
          44.96665431183423,
          0
         ],
         "yaxis": "y3"
        },
        {
         "hoverinfo": "x+name",
         "line": {
          "width": 0.5
         },
         "marker": {
          "color": "rgb(0,116,217)"
         },
         "mode": "lines",
         "name": "Row Cluster 0",
         "type": "scatter",
         "x": [
          0,
          -65.0384501660364,
          -65.0384501660364,
          0
         ],
         "xaxis": "x9",
         "y": [
          5,
          5,
          15,
          15
         ],
         "yaxis": "y9"
        },
        {
         "hoverinfo": "x+name",
         "line": {
          "width": 0.5
         },
         "marker": {
          "color": "rgb(0,116,217)"
         },
         "mode": "lines",
         "name": "Row Cluster 1",
         "type": "scatter",
         "x": [
          0,
          -1,
          -1,
          0
         ],
         "xaxis": "x9",
         "y": [
          665,
          665,
          675,
          675
         ],
         "yaxis": "y9"
        },
        {
         "hoverinfo": "x+name",
         "line": {
          "width": 0.5
         },
         "marker": {
          "color": "rgb(0,116,217)"
         },
         "mode": "lines",
         "name": "Row Cluster 2",
         "type": "scatter",
         "x": [
          0,
          -3,
          -3,
          -1
         ],
         "xaxis": "x9",
         "y": [
          655,
          655,
          670,
          670
         ],
         "yaxis": "y9"
        },
        {
         "hoverinfo": "x+name",
         "line": {
          "width": 0.5
         },
         "marker": {
          "color": "rgb(0,116,217)"
         },
         "mode": "lines",
         "name": "Row Cluster 3",
         "type": "scatter",
         "x": [
          0,
          -7,
          -7,
          -3
         ],
         "xaxis": "x9",
         "y": [
          645,
          645,
          662.5,
          662.5
         ],
         "yaxis": "y9"
        },
        {
         "hoverinfo": "x+name",
         "line": {
          "width": 0.5
         },
         "marker": {
          "color": "rgb(0,116,217)"
         },
         "mode": "lines",
         "name": "Row Cluster 4",
         "type": "scatter",
         "x": [
          0,
          -1,
          -1,
          0
         ],
         "xaxis": "x9",
         "y": [
          625,
          625,
          635,
          635
         ],
         "yaxis": "y9"
        },
        {
         "hoverinfo": "x+name",
         "line": {
          "width": 0.5
         },
         "marker": {
          "color": "rgb(0,116,217)"
         },
         "mode": "lines",
         "name": "Row Cluster 5",
         "type": "scatter",
         "x": [
          -3,
          -16,
          -16,
          -7
         ],
         "xaxis": "x9",
         "y": [
          622.5,
          622.5,
          653.75,
          653.75
         ],
         "yaxis": "y9"
        },
        {
         "hoverinfo": "x+name",
         "line": {
          "width": 0.5
         },
         "marker": {
          "color": "rgb(0,116,217)"
         },
         "mode": "lines",
         "name": "Row Cluster 6",
         "type": "scatter",
         "x": [
          0,
          -3,
          -3,
          -1
         ],
         "xaxis": "x9",
         "y": [
          615,
          615,
          630,
          630
         ],
         "yaxis": "y9"
        },
        {
         "hoverinfo": "x+name",
         "line": {
          "width": 0.5
         },
         "marker": {
          "color": "rgb(0,116,217)"
         },
         "mode": "lines",
         "name": "Row Cluster 7",
         "type": "scatter",
         "x": [
          0,
          -46.17358552246078,
          -46.17358552246078,
          -16
         ],
         "xaxis": "x9",
         "y": [
          605,
          605,
          638.125,
          638.125
         ],
         "yaxis": "y9"
        },
        {
         "hoverinfo": "x+name",
         "line": {
          "width": 0.5
         },
         "marker": {
          "color": "rgb(0,116,217)"
         },
         "mode": "lines",
         "name": "Row Cluster 8",
         "type": "scatter",
         "x": [
          0,
          -9.899494936611665,
          -9.899494936611665,
          0
         ],
         "xaxis": "x9",
         "y": [
          585,
          585,
          595,
          595
         ],
         "yaxis": "y9"
        },
        {
         "hoverinfo": "x+name",
         "line": {
          "width": 0.5
         },
         "marker": {
          "color": "rgb(0,116,217)"
         },
         "mode": "lines",
         "name": "Row Cluster 9",
         "type": "scatter",
         "x": [
          -36.013886210738214,
          -66.83561924602779,
          -66.83561924602779,
          -46.17358552246078
         ],
         "xaxis": "x9",
         "y": [
          580,
          580,
          621.5625,
          621.5625
         ],
         "yaxis": "y9"
        },
        {
         "hoverinfo": "x+name",
         "line": {
          "width": 0.5
         },
         "marker": {
          "color": "rgb(0,116,217)"
         },
         "mode": "lines",
         "name": "Row Cluster 10",
         "type": "scatter",
         "x": [
          -1.7320508075688772,
          -36.013886210738214,
          -36.013886210738214,
          -9.899494936611665
         ],
         "xaxis": "x9",
         "y": [
          570,
          570,
          590,
          590
         ],
         "yaxis": "y9"
        },
        {
         "hoverinfo": "x+name",
         "line": {
          "width": 0.5
         },
         "marker": {
          "color": "rgb(0,116,217)"
         },
         "mode": "lines",
         "name": "Row Cluster 11",
         "type": "scatter",
         "x": [
          0,
          -1.7320508075688772,
          -1.7320508075688772,
          0
         ],
         "xaxis": "x9",
         "y": [
          565,
          565,
          575,
          575
         ],
         "yaxis": "y9"
        },
        {
         "hoverinfo": "x+name",
         "line": {
          "width": 0.5
         },
         "marker": {
          "color": "rgb(0,116,217)"
         },
         "mode": "lines",
         "name": "Row Cluster 12",
         "type": "scatter",
         "x": [
          0,
          -2.8284271247461903,
          -2.8284271247461903,
          0
         ],
         "xaxis": "x9",
         "y": [
          545,
          545,
          555,
          555
         ],
         "yaxis": "y9"
        },
        {
         "hoverinfo": "x+name",
         "line": {
          "width": 0.5
         },
         "marker": {
          "color": "rgb(0,116,217)"
         },
         "mode": "lines",
         "name": "Row Cluster 13",
         "type": "scatter",
         "x": [
          0,
          -29.698484809834994,
          -29.698484809834994,
          -2.8284271247461903
         ],
         "xaxis": "x9",
         "y": [
          535,
          535,
          550,
          550
         ],
         "yaxis": "y9"
        },
        {
         "hoverinfo": "x+name",
         "line": {
          "width": 0.5
         },
         "marker": {
          "color": "rgb(0,116,217)"
         },
         "mode": "lines",
         "name": "Row Cluster 14",
         "type": "scatter",
         "x": [
          -47.70744176750625,
          -73.9459261893446,
          -73.9459261893446,
          -66.83561924602779
         ],
         "xaxis": "x9",
         "y": [
          533.75,
          533.75,
          600.78125,
          600.78125
         ],
         "yaxis": "y9"
        },
        {
         "hoverinfo": "x+name",
         "line": {
          "width": 0.5
         },
         "marker": {
          "color": "rgb(0,116,217)"
         },
         "mode": "lines",
         "name": "Row Cluster 15",
         "type": "scatter",
         "x": [
          0,
          -47.70744176750625,
          -47.70744176750625,
          -29.698484809834994
         ],
         "xaxis": "x9",
         "y": [
          525,
          525,
          542.5,
          542.5
         ],
         "yaxis": "y9"
        },
        {
         "hoverinfo": "x+name",
         "line": {
          "width": 0.5
         },
         "marker": {
          "color": "rgb(0,116,217)"
         },
         "mode": "lines",
         "name": "Row Cluster 16",
         "type": "scatter",
         "x": [
          0,
          -14.628738838327793,
          -14.628738838327793,
          0
         ],
         "xaxis": "x9",
         "y": [
          505,
          505,
          515,
          515
         ],
         "yaxis": "y9"
        },
        {
         "hoverinfo": "x+name",
         "line": {
          "width": 0.5
         },
         "marker": {
          "color": "rgb(0,116,217)"
         },
         "mode": "lines",
         "name": "Row Cluster 17",
         "type": "scatter",
         "x": [
          0,
          -1,
          -1,
          0
         ],
         "xaxis": "x9",
         "y": [
          485,
          485,
          495,
          495
         ],
         "yaxis": "y9"
        },
        {
         "hoverinfo": "x+name",
         "line": {
          "width": 0.5
         },
         "marker": {
          "color": "rgb(0,116,217)"
         },
         "mode": "lines",
         "name": "Row Cluster 18",
         "type": "scatter",
         "x": [
          -3,
          -21.748563170931547,
          -21.748563170931547,
          -14.628738838327793
         ],
         "xaxis": "x9",
         "y": [
          482.5,
          482.5,
          510,
          510
         ],
         "yaxis": "y9"
        },
        {
         "hoverinfo": "x+name",
         "line": {
          "width": 0.5
         },
         "marker": {
          "color": "rgb(0,116,217)"
         },
         "mode": "lines",
         "name": "Row Cluster 19",
         "type": "scatter",
         "x": [
          0,
          -3,
          -3,
          -1
         ],
         "xaxis": "x9",
         "y": [
          475,
          475,
          490,
          490
         ],
         "yaxis": "y9"
        },
        {
         "hoverinfo": "x+name",
         "line": {
          "width": 0.5
         },
         "marker": {
          "color": "rgb(0,116,217)"
         },
         "mode": "lines",
         "name": "Row Cluster 20",
         "type": "scatter",
         "x": [
          0,
          -1,
          -1,
          0
         ],
         "xaxis": "x9",
         "y": [
          455,
          455,
          465,
          465
         ],
         "yaxis": "y9"
        },
        {
         "hoverinfo": "x+name",
         "line": {
          "width": 0.5
         },
         "marker": {
          "color": "rgb(0,116,217)"
         },
         "mode": "lines",
         "name": "Row Cluster 21",
         "type": "scatter",
         "x": [
          -1,
          -4,
          -4,
          -1
         ],
         "xaxis": "x9",
         "y": [
          440,
          440,
          460,
          460
         ],
         "yaxis": "y9"
        },
        {
         "hoverinfo": "x+name",
         "line": {
          "width": 0.5
         },
         "marker": {
          "color": "rgb(0,116,217)"
         },
         "mode": "lines",
         "name": "Row Cluster 22",
         "type": "scatter",
         "x": [
          0,
          -1,
          -1,
          0
         ],
         "xaxis": "x9",
         "y": [
          435,
          435,
          445,
          445
         ],
         "yaxis": "y9"
        },
        {
         "hoverinfo": "x+name",
         "line": {
          "width": 0.5
         },
         "marker": {
          "color": "rgb(0,116,217)"
         },
         "mode": "lines",
         "name": "Row Cluster 23",
         "type": "scatter",
         "x": [
          0,
          -7,
          -7,
          -4
         ],
         "xaxis": "x9",
         "y": [
          425,
          425,
          450,
          450
         ],
         "yaxis": "y9"
        },
        {
         "hoverinfo": "x+name",
         "line": {
          "width": 0.5
         },
         "marker": {
          "color": "rgb(0,116,217)"
         },
         "mode": "lines",
         "name": "Row Cluster 24",
         "type": "scatter",
         "x": [
          0,
          -11.180339887498949,
          -11.180339887498949,
          -7
         ],
         "xaxis": "x9",
         "y": [
          415,
          415,
          437.5,
          437.5
         ],
         "yaxis": "y9"
        },
        {
         "hoverinfo": "x+name",
         "line": {
          "width": 0.5
         },
         "marker": {
          "color": "rgb(0,116,217)"
         },
         "mode": "lines",
         "name": "Row Cluster 25",
         "type": "scatter",
         "x": [
          -17.26267650163207,
          -25.03996805109783,
          -25.03996805109783,
          -21.748563170931547
         ],
         "xaxis": "x9",
         "y": [
          400.3125,
          400.3125,
          496.25,
          496.25
         ],
         "yaxis": "y9"
        },
        {
         "hoverinfo": "x+name",
         "line": {
          "width": 0.5
         },
         "marker": {
          "color": "rgb(0,116,217)"
         },
         "mode": "lines",
         "name": "Row Cluster 26",
         "type": "scatter",
         "x": [
          0,
          -2.23606797749979,
          -2.23606797749979,
          0
         ],
         "xaxis": "x9",
         "y": [
          395,
          395,
          405,
          405
         ],
         "yaxis": "y9"
        },
        {
         "hoverinfo": "x+name",
         "line": {
          "width": 0.5
         },
         "marker": {
          "color": "rgb(0,116,217)"
         },
         "mode": "lines",
         "name": "Row Cluster 27",
         "type": "scatter",
         "x": [
          0,
          -3,
          -3,
          -2.23606797749979
         ],
         "xaxis": "x9",
         "y": [
          385,
          385,
          400,
          400
         ],
         "yaxis": "y9"
        },
        {
         "hoverinfo": "x+name",
         "line": {
          "width": 0.5
         },
         "marker": {
          "color": "rgb(0,116,217)"
         },
         "mode": "lines",
         "name": "Row Cluster 28",
         "type": "scatter",
         "x": [
          0,
          -5.0990195135927845,
          -5.0990195135927845,
          -3
         ],
         "xaxis": "x9",
         "y": [
          375,
          375,
          392.5,
          392.5
         ],
         "yaxis": "y9"
        },
        {
         "hoverinfo": "x+name",
         "line": {
          "width": 0.5
         },
         "marker": {
          "color": "rgb(0,116,217)"
         },
         "mode": "lines",
         "name": "Row Cluster 29",
         "type": "scatter",
         "x": [
          -10.344080432788601,
          -17.26267650163207,
          -17.26267650163207,
          -11.180339887498949
         ],
         "xaxis": "x9",
         "y": [
          374.375,
          374.375,
          426.25,
          426.25
         ],
         "yaxis": "y9"
        },
        {
         "hoverinfo": "x+name",
         "line": {
          "width": 0.5
         },
         "marker": {
          "color": "rgb(0,116,217)"
         },
         "mode": "lines",
         "name": "Row Cluster 30",
         "type": "scatter",
         "x": [
          0,
          -10.344080432788601,
          -10.344080432788601,
          -5.0990195135927845
         ],
         "xaxis": "x9",
         "y": [
          365,
          365,
          383.75,
          383.75
         ],
         "yaxis": "y9"
        },
        {
         "hoverinfo": "x+name",
         "line": {
          "width": 0.5
         },
         "marker": {
          "color": "rgb(0,116,217)"
         },
         "mode": "lines",
         "name": "Row Cluster 31",
         "type": "scatter",
         "x": [
          0,
          -34.828149534535996,
          -34.828149534535996,
          -25.03996805109783
         ],
         "xaxis": "x9",
         "y": [
          355,
          355,
          448.28125,
          448.28125
         ],
         "yaxis": "y9"
        },
        {
         "hoverinfo": "x+name",
         "line": {
          "width": 0.5
         },
         "marker": {
          "color": "rgb(0,116,217)"
         },
         "mode": "lines",
         "name": "Row Cluster 32",
         "type": "scatter",
         "x": [
          0,
          -2,
          -2,
          0
         ],
         "xaxis": "x9",
         "y": [
          335,
          335,
          345,
          345
         ],
         "yaxis": "y9"
        },
        {
         "hoverinfo": "x+name",
         "line": {
          "width": 0.5
         },
         "marker": {
          "color": "rgb(0,116,217)"
         },
         "mode": "lines",
         "name": "Row Cluster 33",
         "type": "scatter",
         "x": [
          0,
          -14.317821063276353,
          -14.317821063276353,
          -2
         ],
         "xaxis": "x9",
         "y": [
          325,
          325,
          340,
          340
         ],
         "yaxis": "y9"
        },
        {
         "hoverinfo": "x+name",
         "line": {
          "width": 0.5
         },
         "marker": {
          "color": "rgb(0,116,217)"
         },
         "mode": "lines",
         "name": "Row Cluster 34",
         "type": "scatter",
         "x": [
          0,
          -24.06241883103193,
          -24.06241883103193,
          -14.317821063276353
         ],
         "xaxis": "x9",
         "y": [
          315,
          315,
          332.5,
          332.5
         ],
         "yaxis": "y9"
        },
        {
         "hoverinfo": "x+name",
         "line": {
          "width": 0.5
         },
         "marker": {
          "color": "rgb(0,116,217)"
         },
         "mode": "lines",
         "name": "Row Cluster 35",
         "type": "scatter",
         "x": [
          -33.1058907144937,
          -40.607881008493905,
          -40.607881008493905,
          -34.828149534535996
         ],
         "xaxis": "x9",
         "y": [
          314.375,
          314.375,
          401.640625,
          401.640625
         ],
         "yaxis": "y9"
        },
        {
         "hoverinfo": "x+name",
         "line": {
          "width": 0.5
         },
         "marker": {
          "color": "rgb(0,116,217)"
         },
         "mode": "lines",
         "name": "Row Cluster 36",
         "type": "scatter",
         "x": [
          0,
          -33.1058907144937,
          -33.1058907144937,
          -24.06241883103193
         ],
         "xaxis": "x9",
         "y": [
          305,
          305,
          323.75,
          323.75
         ],
         "yaxis": "y9"
        },
        {
         "hoverinfo": "x+name",
         "line": {
          "width": 0.5
         },
         "marker": {
          "color": "rgb(0,116,217)"
         },
         "mode": "lines",
         "name": "Row Cluster 37",
         "type": "scatter",
         "x": [
          -62.91263784010332,
          -88.27230596285564,
          -88.27230596285564,
          -73.9459261893446
         ],
         "xaxis": "x9",
         "y": [
          286.376953125,
          286.376953125,
          567.265625,
          567.265625
         ],
         "yaxis": "y9"
        },
        {
         "hoverinfo": "x+name",
         "line": {
          "width": 0.5
         },
         "marker": {
          "color": "rgb(0,116,217)"
         },
         "mode": "lines",
         "name": "Row Cluster 38",
         "type": "scatter",
         "x": [
          0,
          -14.866068747318506,
          -14.866068747318506,
          0
         ],
         "xaxis": "x9",
         "y": [
          285,
          285,
          295,
          295
         ],
         "yaxis": "y9"
        },
        {
         "hoverinfo": "x+name",
         "line": {
          "width": 0.5
         },
         "marker": {
          "color": "rgb(0,116,217)"
         },
         "mode": "lines",
         "name": "Row Cluster 39",
         "type": "scatter",
         "x": [
          -27.65863337187866,
          -45.89117562233506,
          -45.89117562233506,
          -40.607881008493905
         ],
         "xaxis": "x9",
         "y": [
          282.5,
          282.5,
          358.0078125,
          358.0078125
         ],
         "yaxis": "y9"
        },
        {
         "hoverinfo": "x+name",
         "line": {
          "width": 0.5
         },
         "marker": {
          "color": "rgb(0,116,217)"
         },
         "mode": "lines",
         "name": "Row Cluster 40",
         "type": "scatter",
         "x": [
          0,
          -27.65863337187866,
          -27.65863337187866,
          -14.866068747318506
         ],
         "xaxis": "x9",
         "y": [
          275,
          275,
          290,
          290
         ],
         "yaxis": "y9"
        },
        {
         "hoverinfo": "x+name",
         "line": {
          "width": 0.5
         },
         "marker": {
          "color": "rgb(0,116,217)"
         },
         "mode": "lines",
         "name": "Row Cluster 41",
         "type": "scatter",
         "x": [
          0,
          -1,
          -1,
          0
         ],
         "xaxis": "x9",
         "y": [
          255,
          255,
          265,
          265
         ],
         "yaxis": "y9"
        },
        {
         "hoverinfo": "x+name",
         "line": {
          "width": 0.5
         },
         "marker": {
          "color": "rgb(0,116,217)"
         },
         "mode": "lines",
         "name": "Row Cluster 42",
         "type": "scatter",
         "x": [
          -26,
          -62.91263784010332,
          -62.91263784010332,
          -45.89117562233506
         ],
         "xaxis": "x9",
         "y": [
          252.5,
          252.5,
          320.25390625,
          320.25390625
         ],
         "yaxis": "y9"
        },
        {
         "hoverinfo": "x+name",
         "line": {
          "width": 0.5
         },
         "marker": {
          "color": "rgb(0,116,217)"
         },
         "mode": "lines",
         "name": "Row Cluster 43",
         "type": "scatter",
         "x": [
          0,
          -26,
          -26,
          -1
         ],
         "xaxis": "x9",
         "y": [
          245,
          245,
          260,
          260
         ],
         "yaxis": "y9"
        },
        {
         "hoverinfo": "x+name",
         "line": {
          "width": 0.5
         },
         "marker": {
          "color": "rgb(0,116,217)"
         },
         "mode": "lines",
         "name": "Row Cluster 44",
         "type": "scatter",
         "x": [
          0,
          -53.23532661682466,
          -53.23532661682466,
          0
         ],
         "xaxis": "x9",
         "y": [
          225,
          225,
          235,
          235
         ],
         "yaxis": "y9"
        },
        {
         "hoverinfo": "x+name",
         "line": {
          "width": 0.5
         },
         "marker": {
          "color": "rgb(0,116,217)"
         },
         "mode": "lines",
         "name": "Row Cluster 45",
         "type": "scatter",
         "x": [
          0,
          -76.40680597957227,
          -76.40680597957227,
          -53.23532661682466
         ],
         "xaxis": "x9",
         "y": [
          215,
          215,
          230,
          230
         ],
         "yaxis": "y9"
        },
        {
         "hoverinfo": "x+name",
         "line": {
          "width": 0.5
         },
         "marker": {
          "color": "rgb(0,116,217)"
         },
         "mode": "lines",
         "name": "Row Cluster 46",
         "type": "scatter",
         "x": [
          -87.46427842267951,
          -102.03920815059278,
          -102.03920815059278,
          -88.27230596285564
         ],
         "xaxis": "x9",
         "y": [
          211.25,
          211.25,
          426.8212890625,
          426.8212890625
         ],
         "yaxis": "y9"
        },
        {
         "hoverinfo": "x+name",
         "line": {
          "width": 0.5
         },
         "marker": {
          "color": "rgb(0,116,217)"
         },
         "mode": "lines",
         "name": "Row Cluster 47",
         "type": "scatter",
         "x": [
          -63.686733312362634,
          -87.46427842267951,
          -87.46427842267951,
          -76.40680597957227
         ],
         "xaxis": "x9",
         "y": [
          200,
          200,
          222.5,
          222.5
         ],
         "yaxis": "y9"
        },
        {
         "hoverinfo": "x+name",
         "line": {
          "width": 0.5
         },
         "marker": {
          "color": "rgb(0,116,217)"
         },
         "mode": "lines",
         "name": "Row Cluster 48",
         "type": "scatter",
         "x": [
          0,
          -63.686733312362634,
          -63.686733312362634,
          0
         ],
         "xaxis": "x9",
         "y": [
          195,
          195,
          205,
          205
         ],
         "yaxis": "y9"
        },
        {
         "hoverinfo": "x+name",
         "line": {
          "width": 0.5
         },
         "marker": {
          "color": "rgb(0,116,217)"
         },
         "mode": "lines",
         "name": "Row Cluster 49",
         "type": "scatter",
         "x": [
          -61.14736298484179,
          -116.88883607941351,
          -116.88883607941351,
          -102.03920815059278
         ],
         "xaxis": "x9",
         "y": [
          180,
          180,
          319.03564453125,
          319.03564453125
         ],
         "yaxis": "y9"
        },
        {
         "hoverinfo": "x+name",
         "line": {
          "width": 0.5
         },
         "marker": {
          "color": "rgb(0,116,217)"
         },
         "mode": "lines",
         "name": "Row Cluster 50",
         "type": "scatter",
         "x": [
          0,
          -61.14736298484179,
          -61.14736298484179,
          0
         ],
         "xaxis": "x9",
         "y": [
          175,
          175,
          185,
          185
         ],
         "yaxis": "y9"
        },
        {
         "hoverinfo": "x+name",
         "line": {
          "width": 0.5
         },
         "marker": {
          "color": "rgb(0,116,217)"
         },
         "mode": "lines",
         "name": "Row Cluster 51",
         "type": "scatter",
         "x": [
          0,
          -8,
          -8,
          0
         ],
         "xaxis": "x9",
         "y": [
          155,
          155,
          165,
          165
         ],
         "yaxis": "y9"
        },
        {
         "hoverinfo": "x+name",
         "line": {
          "width": 0.5
         },
         "marker": {
          "color": "rgb(0,116,217)"
         },
         "mode": "lines",
         "name": "Row Cluster 52",
         "type": "scatter",
         "x": [
          0,
          -79.39773296511683,
          -79.39773296511683,
          -8
         ],
         "xaxis": "x9",
         "y": [
          145,
          145,
          160,
          160
         ],
         "yaxis": "y9"
        },
        {
         "hoverinfo": "x+name",
         "line": {
          "width": 0.5
         },
         "marker": {
          "color": "rgb(0,116,217)"
         },
         "mode": "lines",
         "name": "Row Cluster 53",
         "type": "scatter",
         "x": [
          -80.72174428244226,
          -135.5101472215273,
          -135.5101472215273,
          -116.88883607941351
         ],
         "xaxis": "x9",
         "y": [
          143.75,
          143.75,
          249.517822265625,
          249.517822265625
         ],
         "yaxis": "y9"
        },
        {
         "hoverinfo": "x+name",
         "line": {
          "width": 0.5
         },
         "marker": {
          "color": "rgb(0,116,217)"
         },
         "mode": "lines",
         "name": "Row Cluster 54",
         "type": "scatter",
         "x": [
          0,
          -80.72174428244226,
          -80.72174428244226,
          -79.39773296511683
         ],
         "xaxis": "x9",
         "y": [
          135,
          135,
          152.5,
          152.5
         ],
         "yaxis": "y9"
        },
        {
         "hoverinfo": "x+name",
         "line": {
          "width": 0.5
         },
         "marker": {
          "color": "rgb(0,116,217)"
         },
         "mode": "lines",
         "name": "Row Cluster 55",
         "type": "scatter",
         "x": [
          0,
          -8.660254037844387,
          -8.660254037844387,
          0
         ],
         "xaxis": "x9",
         "y": [
          115,
          115,
          125,
          125
         ],
         "yaxis": "y9"
        },
        {
         "hoverinfo": "x+name",
         "line": {
          "width": 0.5
         },
         "marker": {
          "color": "rgb(0,116,217)"
         },
         "mode": "lines",
         "name": "Row Cluster 56",
         "type": "scatter",
         "x": [
          0,
          -1.7320508075688772,
          -1.7320508075688772,
          0
         ],
         "xaxis": "x9",
         "y": [
          95,
          95,
          105,
          105
         ],
         "yaxis": "y9"
        },
        {
         "hoverinfo": "x+name",
         "line": {
          "width": 0.5
         },
         "marker": {
          "color": "rgb(0,116,217)"
         },
         "mode": "lines",
         "name": "Row Cluster 57",
         "type": "scatter",
         "x": [
          -3.4641016151377544,
          -29.444863728670914,
          -29.444863728670914,
          -8.660254037844387
         ],
         "xaxis": "x9",
         "y": [
          92.5,
          92.5,
          120,
          120
         ],
         "yaxis": "y9"
        },
        {
         "hoverinfo": "x+name",
         "line": {
          "width": 0.5
         },
         "marker": {
          "color": "rgb(0,116,217)"
         },
         "mode": "lines",
         "name": "Row Cluster 58",
         "type": "scatter",
         "x": [
          0,
          -3.4641016151377544,
          -3.4641016151377544,
          -1.7320508075688772
         ],
         "xaxis": "x9",
         "y": [
          85,
          85,
          100,
          100
         ],
         "yaxis": "y9"
        },
        {
         "hoverinfo": "x+name",
         "line": {
          "width": 0.5
         },
         "marker": {
          "color": "rgb(0,116,217)"
         },
         "mode": "lines",
         "name": "Row Cluster 59",
         "type": "scatter",
         "x": [
          0,
          -84.870489570875,
          -84.870489570875,
          -29.444863728670914
         ],
         "xaxis": "x9",
         "y": [
          75,
          75,
          106.25,
          106.25
         ],
         "yaxis": "y9"
        },
        {
         "hoverinfo": "x+name",
         "line": {
          "width": 0.5
         },
         "marker": {
          "color": "rgb(0,116,217)"
         },
         "mode": "lines",
         "name": "Row Cluster 60",
         "type": "scatter",
         "x": [
          0,
          -89.81647955692763,
          -89.81647955692763,
          -84.870489570875
         ],
         "xaxis": "x9",
         "y": [
          65,
          65,
          90.625,
          90.625
         ],
         "yaxis": "y9"
        },
        {
         "hoverinfo": "x+name",
         "line": {
          "width": 0.5
         },
         "marker": {
          "color": "rgb(0,116,217)"
         },
         "mode": "lines",
         "name": "Row Cluster 61",
         "type": "scatter",
         "x": [
          -131.190700889964,
          -156.36815532582074,
          -156.36815532582074,
          -135.5101472215273
         ],
         "xaxis": "x9",
         "y": [
          63.90625,
          63.90625,
          196.6339111328125,
          196.6339111328125
         ],
         "yaxis": "y9"
        },
        {
         "hoverinfo": "x+name",
         "line": {
          "width": 0.5
         },
         "marker": {
          "color": "rgb(0,116,217)"
         },
         "mode": "lines",
         "name": "Row Cluster 62",
         "type": "scatter",
         "x": [
          -10.392304845413264,
          -131.190700889964,
          -131.190700889964,
          -89.81647955692763
         ],
         "xaxis": "x9",
         "y": [
          50,
          50,
          77.8125,
          77.8125
         ],
         "yaxis": "y9"
        },
        {
         "hoverinfo": "x+name",
         "line": {
          "width": 0.5
         },
         "marker": {
          "color": "rgb(0,116,217)"
         },
         "mode": "lines",
         "name": "Row Cluster 63",
         "type": "scatter",
         "x": [
          0,
          -10.392304845413264,
          -10.392304845413264,
          0
         ],
         "xaxis": "x9",
         "y": [
          45,
          45,
          55,
          55
         ],
         "yaxis": "y9"
        },
        {
         "hoverinfo": "x+name",
         "line": {
          "width": 0.5
         },
         "marker": {
          "color": "rgb(0,116,217)"
         },
         "mode": "lines",
         "name": "Row Cluster 64",
         "type": "scatter",
         "x": [
          0,
          -90.34378783292186,
          -90.34378783292186,
          0
         ],
         "xaxis": "x9",
         "y": [
          25,
          25,
          35,
          35
         ],
         "yaxis": "y9"
        },
        {
         "hoverinfo": "x+name",
         "line": {
          "width": 0.5
         },
         "marker": {
          "color": "rgb(0,116,217)"
         },
         "mode": "lines",
         "name": "Row Cluster 65",
         "type": "scatter",
         "x": [
          -127.53038853543887,
          -161.16761461286197,
          -161.16761461286197,
          -156.36815532582074
         ],
         "xaxis": "x9",
         "y": [
          20,
          20,
          130.27008056640625,
          130.27008056640625
         ],
         "yaxis": "y9"
        },
        {
         "hoverinfo": "x+name",
         "line": {
          "width": 0.5
         },
         "marker": {
          "color": "rgb(0,116,217)"
         },
         "mode": "lines",
         "name": "Row Cluster 66",
         "type": "scatter",
         "x": [
          -65.0384501660364,
          -127.53038853543887,
          -127.53038853543887,
          -90.34378783292186
         ],
         "xaxis": "x9",
         "y": [
          10,
          10,
          30,
          30
         ],
         "yaxis": "y9"
        },
        {
         "colorbar": {
          "xpad": 100
         },
         "colorscale": [
          [
           0,
           "rgb(84,48,5)"
          ],
          [
           0.5,
           "rgb(246,232,195)"
          ],
          [
           1,
           "rgb(0,60,48)"
          ]
         ],
         "type": "heatmap",
         "x": [
          5,
          15,
          25,
          35,
          45,
          55,
          65,
          75,
          85,
          95,
          105,
          115,
          125
         ],
         "xaxis": "x11",
         "y": [
          5,
          15,
          25,
          35,
          45,
          55,
          65,
          75,
          85,
          95,
          105,
          115,
          125,
          135,
          145,
          155,
          165,
          175,
          185,
          195,
          205,
          215,
          225,
          235,
          245,
          255,
          265,
          275,
          285,
          295,
          305,
          315,
          325,
          335,
          345,
          355,
          365,
          375,
          385,
          395,
          405,
          415,
          425,
          435,
          445,
          455,
          465,
          475,
          485,
          495,
          505,
          515,
          525,
          535,
          545,
          555,
          565,
          575,
          585,
          595,
          605,
          615,
          625,
          635,
          645,
          655,
          665,
          675
         ],
         "yaxis": "y11",
         "z": [
          [
           58.0237556561086,
           58.0237556561086,
           58.0237556561086,
           58.0237556561086,
           58.0237556561086,
           58.0237556561086,
           -6.976244343891403,
           -6.976244343891403,
           -6.976244343891403,
           -6.976244343891403,
           -6.976244343891403,
           -6.976244343891403,
           -6.976244343891403
          ],
          [
           59.0237556561086,
           59.0237556561086,
           59.0237556561086,
           59.0237556561086,
           -6.976244343891403,
           59.0237556561086,
           -6.976244343891403,
           -6.976244343891403,
           -6.976244343891403,
           -6.976244343891403,
           -6.976244343891403,
           -6.976244343891403,
           -6.976244343891403
          ],
          [
           52.0237556561086,
           52.0237556561086,
           52.0237556561086,
           -6.976244343891403,
           -6.976244343891403,
           -6.976244343891403,
           -6.976244343891403,
           -6.976244343891403,
           -6.976244343891403,
           52.0237556561086,
           -6.976244343891403,
           -6.976244343891403,
           -6.976244343891403
          ],
          [
           60.0237556561086,
           60.0237556561086,
           60.0237556561086,
           -6.976244343891403,
           -6.976244343891403,
           60.0237556561086,
           -6.976244343891403,
           -6.976244343891403,
           -6.976244343891403,
           -6.976244343891403,
           -6.976244343891403,
           -6.976244343891403,
           -6.976244343891403
          ],
          [
           55.0237556561086,
           -6.976244343891403,
           -6.976244343891403,
           -6.976244343891403,
           -6.976244343891403,
           55.0237556561086,
           -6.976244343891403,
           55.0237556561086,
           -6.976244343891403,
           -6.976244343891403,
           -6.976244343891403,
           -6.976244343891403,
           -6.976244343891403
          ],
          [
           61.0237556561086,
           -6.976244343891403,
           -6.976244343891403,
           -6.976244343891403,
           -6.976244343891403,
           61.0237556561086,
           -6.976244343891403,
           61.0237556561086,
           -6.976244343891403,
           -6.976244343891403,
           -6.976244343891403,
           -6.976244343891403,
           -6.976244343891403
          ],
          [
           57.0237556561086,
           -6.976244343891403,
           -6.976244343891403,
           57.0237556561086,
           -6.976244343891403,
           57.0237556561086,
           -6.976244343891403,
           -6.976244343891403,
           -6.976244343891403,
           -6.976244343891403,
           -6.976244343891403,
           -6.976244343891403,
           -6.976244343891403
          ],
          [
           -6.976244343891403,
           -6.976244343891403,
           -6.976244343891403,
           56.0237556561086,
           56.0237556561086,
           56.0237556561086,
           -6.976244343891403,
           -6.976244343891403,
           -6.976244343891403,
           -6.976244343891403,
           -6.976244343891403,
           -6.976244343891403,
           -6.976244343891403
          ],
          [
           34.0237556561086,
           -6.976244343891403,
           -6.976244343891403,
           34.0237556561086,
           34.0237556561086,
           -6.976244343891403,
           -6.976244343891403,
           -6.976244343891403,
           -6.976244343891403,
           -6.976244343891403,
           -6.976244343891403,
           -6.976244343891403,
           -6.976244343891403
          ],
          [
           32.0237556561086,
           -6.976244343891403,
           -6.976244343891403,
           32.0237556561086,
           32.0237556561086,
           -6.976244343891403,
           -6.976244343891403,
           -6.976244343891403,
           -6.976244343891403,
           -6.976244343891403,
           -6.976244343891403,
           -6.976244343891403,
           -6.976244343891403
          ],
          [
           33.0237556561086,
           -6.976244343891403,
           -6.976244343891403,
           33.0237556561086,
           33.0237556561086,
           -6.976244343891403,
           -6.976244343891403,
           -6.976244343891403,
           -6.976244343891403,
           -6.976244343891403,
           -6.976244343891403,
           -6.976244343891403,
           -6.976244343891403
          ],
          [
           44.0237556561086,
           -6.976244343891403,
           -6.976244343891403,
           44.0237556561086,
           44.0237556561086,
           -6.976244343891403,
           -6.976244343891403,
           -6.976244343891403,
           -6.976244343891403,
           -6.976244343891403,
           -6.976244343891403,
           -6.976244343891403,
           -6.976244343891403
          ],
          [
           49.0237556561086,
           -6.976244343891403,
           -6.976244343891403,
           49.0237556561086,
           49.0237556561086,
           -6.976244343891403,
           -6.976244343891403,
           -6.976244343891403,
           -6.976244343891403,
           -6.976244343891403,
           -6.976244343891403,
           -6.976244343891403,
           -6.976244343891403
          ],
          [
           50.0237556561086,
           50.0237556561086,
           -6.976244343891403,
           -6.976244343891403,
           50.0237556561086,
           -6.976244343891403,
           50.0237556561086,
           -6.976244343891403,
           -6.976244343891403,
           -6.976244343891403,
           -6.976244343891403,
           -6.976244343891403,
           -6.976244343891403
          ],
          [
           -6.976244343891403,
           53.0237556561086,
           -6.976244343891403,
           -6.976244343891403,
           -6.976244343891403,
           -6.976244343891403,
           53.0237556561086,
           -6.976244343891403,
           -6.976244343891403,
           -6.976244343891403,
           -6.976244343891403,
           -6.976244343891403,
           -6.976244343891403
          ],
          [
           45.0237556561086,
           45.0237556561086,
           45.0237556561086,
           -6.976244343891403,
           -6.976244343891403,
           -6.976244343891403,
           45.0237556561086,
           -6.976244343891403,
           -6.976244343891403,
           -6.976244343891403,
           -6.976244343891403,
           -6.976244343891403,
           -6.976244343891403
          ],
          [
           49.0237556561086,
           49.0237556561086,
           49.0237556561086,
           -6.976244343891403,
           -6.976244343891403,
           -6.976244343891403,
           49.0237556561086,
           -6.976244343891403,
           -6.976244343891403,
           -6.976244343891403,
           -6.976244343891403,
           -6.976244343891403,
           -6.976244343891403
          ],
          [
           51.0237556561086,
           -6.976244343891403,
           -6.976244343891403,
           -6.976244343891403,
           -6.976244343891403,
           -6.976244343891403,
           -6.976244343891403,
           -6.976244343891403,
           51.0237556561086,
           -6.976244343891403,
           -6.976244343891403,
           -6.976244343891403,
           -6.976244343891403
          ],
          [
           54.0237556561086,
           -6.976244343891403,
           54.0237556561086,
           -6.976244343891403,
           -6.976244343891403,
           -6.976244343891403,
           -6.976244343891403,
           -6.976244343891403,
           54.0237556561086,
           -6.976244343891403,
           -6.976244343891403,
           -6.976244343891403,
           -6.976244343891403
          ],
          [
           -6.976244343891403,
           -6.976244343891403,
           25.023755656108598,
           25.023755656108598,
           25.023755656108598,
           -6.976244343891403,
           -6.976244343891403,
           -6.976244343891403,
           -6.976244343891403,
           -6.976244343891403,
           25.023755656108598,
           25.023755656108598,
           -6.976244343891403
          ],
          [
           31.023755656108598,
           31.023755656108598,
           31.023755656108598,
           31.023755656108598,
           31.023755656108598,
           -6.976244343891403,
           -6.976244343891403,
           -6.976244343891403,
           -6.976244343891403,
           -6.976244343891403,
           31.023755656108598,
           -6.976244343891403,
           -6.976244343891403
          ],
          [
           48.0237556561086,
           -6.976244343891403,
           48.0237556561086,
           -6.976244343891403,
           -6.976244343891403,
           -6.976244343891403,
           -6.976244343891403,
           -6.976244343891403,
           -6.976244343891403,
           -6.976244343891403,
           -6.976244343891403,
           -6.976244343891403,
           -6.976244343891403
          ],
          [
           -6.976244343891403,
           -6.976244343891403,
           41.0237556561086,
           -6.976244343891403,
           -6.976244343891403,
           -6.976244343891403,
           -6.976244343891403,
           -6.976244343891403,
           -6.976244343891403,
           -6.976244343891403,
           -6.976244343891403,
           -6.976244343891403,
           -6.976244343891403
          ],
          [
           -6.976244343891403,
           46.0237556561086,
           46.0237556561086,
           -6.976244343891403,
           -6.976244343891403,
           -6.976244343891403,
           -6.976244343891403,
           -6.976244343891403,
           -6.976244343891403,
           -6.976244343891403,
           -6.976244343891403,
           -6.976244343891403,
           -6.976244343891403
          ],
          [
           -6.976244343891403,
           -6.976244343891403,
           -6.976244343891403,
           -6.976244343891403,
           17.023755656108598,
           -6.976244343891403,
           -6.976244343891403,
           -6.976244343891403,
           -6.976244343891403,
           -6.976244343891403,
           -6.976244343891403,
           -6.976244343891403,
           -6.976244343891403
          ],
          [
           -6.976244343891403,
           -6.976244343891403,
           -6.976244343891403,
           -6.976244343891403,
           42.0237556561086,
           -6.976244343891403,
           -6.976244343891403,
           -6.976244343891403,
           -6.976244343891403,
           -6.976244343891403,
           -6.976244343891403,
           -6.976244343891403,
           -6.976244343891403
          ],
          [
           -6.976244343891403,
           -6.976244343891403,
           -6.976244343891403,
           -6.976244343891403,
           43.0237556561086,
           -6.976244343891403,
           -6.976244343891403,
           -6.976244343891403,
           -6.976244343891403,
           -6.976244343891403,
           -6.976244343891403,
           -6.976244343891403,
           -6.976244343891403
          ],
          [
           -6.976244343891403,
           20.023755656108598,
           -6.976244343891403,
           20.023755656108598,
           -6.976244343891403,
           -6.976244343891403,
           -6.976244343891403,
           -6.976244343891403,
           -6.976244343891403,
           -6.976244343891403,
           -6.976244343891403,
           -6.976244343891403,
           -6.976244343891403
          ],
          [
           -6.976244343891403,
           4.023755656108597,
           -6.976244343891403,
           4.023755656108597,
           -6.976244343891403,
           -6.976244343891403,
           -6.976244343891403,
           -6.976244343891403,
           -6.976244343891403,
           -6.976244343891403,
           -6.976244343891403,
           -6.976244343891403,
           -6.976244343891403
          ],
          [
           -6.976244343891403,
           -6.976244343891403,
           -6.976244343891403,
           14.023755656108598,
           -6.976244343891403,
           -6.976244343891403,
           -6.976244343891403,
           -6.976244343891403,
           -6.976244343891403,
           -6.976244343891403,
           -6.976244343891403,
           -6.976244343891403,
           -6.976244343891403
          ],
          [
           -6.976244343891403,
           -6.976244343891403,
           11.023755656108598,
           -6.976244343891403,
           -6.976244343891403,
           -6.976244343891403,
           -6.976244343891403,
           -6.976244343891403,
           -6.976244343891403,
           -6.976244343891403,
           -6.976244343891403,
           -6.976244343891403,
           11.023755656108598
          ],
          [
           -6.976244343891403,
           12.023755656108598,
           12.023755656108598,
           -6.976244343891403,
           -6.976244343891403,
           -6.976244343891403,
           -6.976244343891403,
           -6.976244343891403,
           -6.976244343891403,
           -6.976244343891403,
           -6.976244343891403,
           -6.976244343891403,
           -6.976244343891403
          ],
          [
           6.023755656108597,
           6.023755656108597,
           6.023755656108597,
           6.023755656108597,
           6.023755656108597,
           -6.976244343891403,
           -6.976244343891403,
           -6.976244343891403,
           -6.976244343891403,
           -6.976244343891403,
           -6.976244343891403,
           -6.976244343891403,
           -6.976244343891403
          ],
          [
           8.023755656108598,
           8.023755656108598,
           8.023755656108598,
           8.023755656108598,
           -6.976244343891403,
           -6.976244343891403,
           -6.976244343891403,
           -6.976244343891403,
           -6.976244343891403,
           -6.976244343891403,
           -6.976244343891403,
           -6.976244343891403,
           -6.976244343891403
          ],
          [
           9.023755656108598,
           9.023755656108598,
           9.023755656108598,
           9.023755656108598,
           -6.976244343891403,
           -6.976244343891403,
           -6.976244343891403,
           -6.976244343891403,
           -6.976244343891403,
           -6.976244343891403,
           -6.976244343891403,
           -6.976244343891403,
           -6.976244343891403
          ],
          [
           -6.976244343891403,
           -6.976244343891403,
           -6.976244343891403,
           -6.976244343891403,
           -6.976244343891403,
           -6.976244343891403,
           -6.976244343891403,
           -6.976244343891403,
           -6.976244343891403,
           -6.976244343891403,
           -6.976244343891403,
           18.023755656108598,
           -6.976244343891403
          ],
          [
           -6.976244343891403,
           -6.976244343891403,
           -6.976244343891403,
           0.0237556561085972,
           -6.976244343891403,
           -6.976244343891403,
           -6.976244343891403,
           -6.976244343891403,
           -6.976244343891403,
           -6.976244343891403,
           -6.976244343891403,
           0.0237556561085972,
           -6.976244343891403
          ],
          [
           -2.976244343891403,
           -6.976244343891403,
           -6.976244343891403,
           -2.976244343891403,
           -6.976244343891403,
           -6.976244343891403,
           -6.976244343891403,
           -6.976244343891403,
           -6.976244343891403,
           -6.976244343891403,
           -6.976244343891403,
           -6.976244343891403,
           -6.976244343891403
          ],
          [
           -4.976244343891403,
           -4.976244343891403,
           -6.976244343891403,
           -4.976244343891403,
           -6.976244343891403,
           -6.976244343891403,
           -6.976244343891403,
           -6.976244343891403,
           -6.976244343891403,
           -6.976244343891403,
           -6.976244343891403,
           -6.976244343891403,
           -6.976244343891403
          ],
          [
           -5.976244343891403,
           -5.976244343891403,
           -6.976244343891403,
           -6.976244343891403,
           -6.976244343891403,
           -6.976244343891403,
           -6.976244343891403,
           -6.976244343891403,
           -6.976244343891403,
           -6.976244343891403,
           -6.976244343891403,
           -6.976244343891403,
           -6.976244343891403
          ],
          [
           -3.976244343891403,
           -6.976244343891403,
           -6.976244343891403,
           -6.976244343891403,
           -6.976244343891403,
           -6.976244343891403,
           -6.976244343891403,
           -6.976244343891403,
           -6.976244343891403,
           -6.976244343891403,
           -6.976244343891403,
           -6.976244343891403,
           -6.976244343891403
          ],
          [
           3.023755656108597,
           -6.976244343891403,
           3.023755656108597,
           -6.976244343891403,
           -6.976244343891403,
           -6.976244343891403,
           -6.976244343891403,
           -6.976244343891403,
           -6.976244343891403,
           -6.976244343891403,
           -6.976244343891403,
           -6.976244343891403,
           -6.976244343891403
          ],
          [
           5.023755656108597,
           -6.976244343891403,
           -6.976244343891403,
           -6.976244343891403,
           -6.976244343891403,
           -6.976244343891403,
           -6.976244343891403,
           -6.976244343891403,
           -6.976244343891403,
           -6.976244343891403,
           -6.976244343891403,
           -6.976244343891403,
           -6.976244343891403
          ],
          [
           -1.9762443438914028,
           -6.976244343891403,
           -6.976244343891403,
           -6.976244343891403,
           -6.976244343891403,
           -6.976244343891403,
           -6.976244343891403,
           -6.976244343891403,
           -6.976244343891403,
           -6.976244343891403,
           -6.976244343891403,
           -6.976244343891403,
           -6.976244343891403
          ],
          [
           -0.9762443438914028,
           -6.976244343891403,
           -6.976244343891403,
           -6.976244343891403,
           -6.976244343891403,
           -6.976244343891403,
           -6.976244343891403,
           -6.976244343891403,
           -6.976244343891403,
           -6.976244343891403,
           -6.976244343891403,
           -6.976244343891403,
           -6.976244343891403
          ],
          [
           1.0237556561085972,
           -6.976244343891403,
           -6.976244343891403,
           -6.976244343891403,
           -6.976244343891403,
           -6.976244343891403,
           -6.976244343891403,
           -6.976244343891403,
           -6.976244343891403,
           -6.976244343891403,
           -6.976244343891403,
           -6.976244343891403,
           -6.976244343891403
          ],
          [
           2.023755656108597,
           -6.976244343891403,
           -6.976244343891403,
           -6.976244343891403,
           -6.976244343891403,
           -6.976244343891403,
           -6.976244343891403,
           -6.976244343891403,
           -6.976244343891403,
           -6.976244343891403,
           -6.976244343891403,
           -6.976244343891403,
           -6.976244343891403
          ],
          [
           13.023755656108598,
           -6.976244343891403,
           -6.976244343891403,
           -6.976244343891403,
           -6.976244343891403,
           -6.976244343891403,
           -6.976244343891403,
           -6.976244343891403,
           -6.976244343891403,
           -6.976244343891403,
           -6.976244343891403,
           -6.976244343891403,
           -6.976244343891403
          ],
          [
           15.023755656108598,
           -6.976244343891403,
           -6.976244343891403,
           -6.976244343891403,
           -6.976244343891403,
           -6.976244343891403,
           -6.976244343891403,
           -6.976244343891403,
           -6.976244343891403,
           -6.976244343891403,
           -6.976244343891403,
           -6.976244343891403,
           -6.976244343891403
          ],
          [
           16.023755656108598,
           -6.976244343891403,
           -6.976244343891403,
           -6.976244343891403,
           -6.976244343891403,
           -6.976244343891403,
           -6.976244343891403,
           -6.976244343891403,
           -6.976244343891403,
           -6.976244343891403,
           -6.976244343891403,
           -6.976244343891403,
           -6.976244343891403
          ],
          [
           7.023755656108597,
           -6.976244343891403,
           -6.976244343891403,
           7.023755656108597,
           7.023755656108597,
           -6.976244343891403,
           -6.976244343891403,
           -6.976244343891403,
           -6.976244343891403,
           -6.976244343891403,
           -6.976244343891403,
           -6.976244343891403,
           -6.976244343891403
          ],
          [
           10.023755656108598,
           -6.976244343891403,
           -6.976244343891403,
           10.023755656108598,
           -6.976244343891403,
           -6.976244343891403,
           -6.976244343891403,
           -6.976244343891403,
           -6.976244343891403,
           -6.976244343891403,
           -6.976244343891403,
           -6.976244343891403,
           -6.976244343891403
          ],
          [
           35.0237556561086,
           35.0237556561086,
           -6.976244343891403,
           -6.976244343891403,
           -6.976244343891403,
           -6.976244343891403,
           35.0237556561086,
           -6.976244343891403,
           -6.976244343891403,
           -6.976244343891403,
           -6.976244343891403,
           -6.976244343891403,
           -6.976244343891403
          ],
          [
           40.0237556561086,
           40.0237556561086,
           -6.976244343891403,
           -6.976244343891403,
           -6.976244343891403,
           -6.976244343891403,
           -6.976244343891403,
           -6.976244343891403,
           -6.976244343891403,
           -6.976244343891403,
           -6.976244343891403,
           -6.976244343891403,
           -6.976244343891403
          ],
          [
           19.023755656108598,
           19.023755656108598,
           -6.976244343891403,
           -6.976244343891403,
           -6.976244343891403,
           -6.976244343891403,
           -6.976244343891403,
           -6.976244343891403,
           -6.976244343891403,
           -6.976244343891403,
           -6.976244343891403,
           -6.976244343891403,
           -6.976244343891403
          ],
          [
           21.023755656108598,
           21.023755656108598,
           -6.976244343891403,
           -6.976244343891403,
           -6.976244343891403,
           -6.976244343891403,
           -6.976244343891403,
           -6.976244343891403,
           -6.976244343891403,
           -6.976244343891403,
           -6.976244343891403,
           -6.976244343891403,
           -6.976244343891403
          ],
          [
           27.023755656108598,
           27.023755656108598,
           -6.976244343891403,
           27.023755656108598,
           -6.976244343891403,
           -6.976244343891403,
           -6.976244343891403,
           -6.976244343891403,
           -6.976244343891403,
           -6.976244343891403,
           -6.976244343891403,
           -6.976244343891403,
           -6.976244343891403
          ],
          [
           28.023755656108598,
           28.023755656108598,
           -6.976244343891403,
           28.023755656108598,
           -6.976244343891403,
           -6.976244343891403,
           -6.976244343891403,
           -6.976244343891403,
           -6.976244343891403,
           -6.976244343891403,
           -6.976244343891403,
           -6.976244343891403,
           -6.976244343891403
          ],
          [
           22.023755656108598,
           -6.976244343891403,
           -6.976244343891403,
           22.023755656108598,
           -6.976244343891403,
           -6.976244343891403,
           -6.976244343891403,
           -6.976244343891403,
           -6.976244343891403,
           -6.976244343891403,
           -6.976244343891403,
           -6.976244343891403,
           -6.976244343891403
          ],
          [
           29.023755656108598,
           -6.976244343891403,
           -6.976244343891403,
           29.023755656108598,
           -6.976244343891403,
           -6.976244343891403,
           -6.976244343891403,
           -6.976244343891403,
           -6.976244343891403,
           -6.976244343891403,
           -6.976244343891403,
           -6.976244343891403,
           -6.976244343891403
          ],
          [
           37.0237556561086,
           -6.976244343891403,
           -6.976244343891403,
           -6.976244343891403,
           37.0237556561086,
           -6.976244343891403,
           -6.976244343891403,
           -6.976244343891403,
           -6.976244343891403,
           -6.976244343891403,
           -6.976244343891403,
           -6.976244343891403,
           -6.976244343891403
          ],
          [
           36.0237556561086,
           -6.976244343891403,
           -6.976244343891403,
           -6.976244343891403,
           -6.976244343891403,
           -6.976244343891403,
           -6.976244343891403,
           -6.976244343891403,
           -6.976244343891403,
           -6.976244343891403,
           -6.976244343891403,
           -6.976244343891403,
           -6.976244343891403
          ],
          [
           38.0237556561086,
           -6.976244343891403,
           -6.976244343891403,
           -6.976244343891403,
           -6.976244343891403,
           -6.976244343891403,
           -6.976244343891403,
           -6.976244343891403,
           -6.976244343891403,
           -6.976244343891403,
           -6.976244343891403,
           -6.976244343891403,
           -6.976244343891403
          ],
          [
           39.0237556561086,
           -6.976244343891403,
           -6.976244343891403,
           -6.976244343891403,
           -6.976244343891403,
           -6.976244343891403,
           -6.976244343891403,
           -6.976244343891403,
           -6.976244343891403,
           -6.976244343891403,
           -6.976244343891403,
           -6.976244343891403,
           -6.976244343891403
          ],
          [
           30.023755656108598,
           -6.976244343891403,
           -6.976244343891403,
           -6.976244343891403,
           -6.976244343891403,
           -6.976244343891403,
           -6.976244343891403,
           -6.976244343891403,
           -6.976244343891403,
           -6.976244343891403,
           -6.976244343891403,
           -6.976244343891403,
           -6.976244343891403
          ],
          [
           26.023755656108598,
           -6.976244343891403,
           -6.976244343891403,
           -6.976244343891403,
           -6.976244343891403,
           -6.976244343891403,
           -6.976244343891403,
           -6.976244343891403,
           -6.976244343891403,
           -6.976244343891403,
           -6.976244343891403,
           -6.976244343891403,
           -6.976244343891403
          ],
          [
           23.023755656108598,
           -6.976244343891403,
           -6.976244343891403,
           -6.976244343891403,
           -6.976244343891403,
           -6.976244343891403,
           -6.976244343891403,
           -6.976244343891403,
           -6.976244343891403,
           -6.976244343891403,
           -6.976244343891403,
           -6.976244343891403,
           -6.976244343891403
          ],
          [
           24.023755656108598,
           -6.976244343891403,
           -6.976244343891403,
           -6.976244343891403,
           -6.976244343891403,
           -6.976244343891403,
           -6.976244343891403,
           -6.976244343891403,
           -6.976244343891403,
           -6.976244343891403,
           -6.976244343891403,
           -6.976244343891403,
           -6.976244343891403
          ]
         ]
        }
       ],
       "layout": {
        "height": 800,
        "hovermode": "closest",
        "legend": {
         "x": 0.7,
         "y": 0.7
        },
        "paper_bgcolor": "rgba(0,0,0,0)",
        "plot_bgcolor": "rgba(0,0,0,0)",
        "showlegend": false,
        "template": {
         "data": {
          "bar": [
           {
            "error_x": {
             "color": "#2a3f5f"
            },
            "error_y": {
             "color": "#2a3f5f"
            },
            "marker": {
             "line": {
              "color": "#E5ECF6",
              "width": 0.5
             },
             "pattern": {
              "fillmode": "overlay",
              "size": 10,
              "solidity": 0.2
             }
            },
            "type": "bar"
           }
          ],
          "barpolar": [
           {
            "marker": {
             "line": {
              "color": "#E5ECF6",
              "width": 0.5
             },
             "pattern": {
              "fillmode": "overlay",
              "size": 10,
              "solidity": 0.2
             }
            },
            "type": "barpolar"
           }
          ],
          "carpet": [
           {
            "aaxis": {
             "endlinecolor": "#2a3f5f",
             "gridcolor": "white",
             "linecolor": "white",
             "minorgridcolor": "white",
             "startlinecolor": "#2a3f5f"
            },
            "baxis": {
             "endlinecolor": "#2a3f5f",
             "gridcolor": "white",
             "linecolor": "white",
             "minorgridcolor": "white",
             "startlinecolor": "#2a3f5f"
            },
            "type": "carpet"
           }
          ],
          "choropleth": [
           {
            "colorbar": {
             "outlinewidth": 0,
             "ticks": ""
            },
            "type": "choropleth"
           }
          ],
          "contour": [
           {
            "colorbar": {
             "outlinewidth": 0,
             "ticks": ""
            },
            "colorscale": [
             [
              0,
              "#0d0887"
             ],
             [
              0.1111111111111111,
              "#46039f"
             ],
             [
              0.2222222222222222,
              "#7201a8"
             ],
             [
              0.3333333333333333,
              "#9c179e"
             ],
             [
              0.4444444444444444,
              "#bd3786"
             ],
             [
              0.5555555555555556,
              "#d8576b"
             ],
             [
              0.6666666666666666,
              "#ed7953"
             ],
             [
              0.7777777777777778,
              "#fb9f3a"
             ],
             [
              0.8888888888888888,
              "#fdca26"
             ],
             [
              1,
              "#f0f921"
             ]
            ],
            "type": "contour"
           }
          ],
          "contourcarpet": [
           {
            "colorbar": {
             "outlinewidth": 0,
             "ticks": ""
            },
            "type": "contourcarpet"
           }
          ],
          "heatmap": [
           {
            "colorbar": {
             "outlinewidth": 0,
             "ticks": ""
            },
            "colorscale": [
             [
              0,
              "#0d0887"
             ],
             [
              0.1111111111111111,
              "#46039f"
             ],
             [
              0.2222222222222222,
              "#7201a8"
             ],
             [
              0.3333333333333333,
              "#9c179e"
             ],
             [
              0.4444444444444444,
              "#bd3786"
             ],
             [
              0.5555555555555556,
              "#d8576b"
             ],
             [
              0.6666666666666666,
              "#ed7953"
             ],
             [
              0.7777777777777778,
              "#fb9f3a"
             ],
             [
              0.8888888888888888,
              "#fdca26"
             ],
             [
              1,
              "#f0f921"
             ]
            ],
            "type": "heatmap"
           }
          ],
          "heatmapgl": [
           {
            "colorbar": {
             "outlinewidth": 0,
             "ticks": ""
            },
            "colorscale": [
             [
              0,
              "#0d0887"
             ],
             [
              0.1111111111111111,
              "#46039f"
             ],
             [
              0.2222222222222222,
              "#7201a8"
             ],
             [
              0.3333333333333333,
              "#9c179e"
             ],
             [
              0.4444444444444444,
              "#bd3786"
             ],
             [
              0.5555555555555556,
              "#d8576b"
             ],
             [
              0.6666666666666666,
              "#ed7953"
             ],
             [
              0.7777777777777778,
              "#fb9f3a"
             ],
             [
              0.8888888888888888,
              "#fdca26"
             ],
             [
              1,
              "#f0f921"
             ]
            ],
            "type": "heatmapgl"
           }
          ],
          "histogram": [
           {
            "marker": {
             "pattern": {
              "fillmode": "overlay",
              "size": 10,
              "solidity": 0.2
             }
            },
            "type": "histogram"
           }
          ],
          "histogram2d": [
           {
            "colorbar": {
             "outlinewidth": 0,
             "ticks": ""
            },
            "colorscale": [
             [
              0,
              "#0d0887"
             ],
             [
              0.1111111111111111,
              "#46039f"
             ],
             [
              0.2222222222222222,
              "#7201a8"
             ],
             [
              0.3333333333333333,
              "#9c179e"
             ],
             [
              0.4444444444444444,
              "#bd3786"
             ],
             [
              0.5555555555555556,
              "#d8576b"
             ],
             [
              0.6666666666666666,
              "#ed7953"
             ],
             [
              0.7777777777777778,
              "#fb9f3a"
             ],
             [
              0.8888888888888888,
              "#fdca26"
             ],
             [
              1,
              "#f0f921"
             ]
            ],
            "type": "histogram2d"
           }
          ],
          "histogram2dcontour": [
           {
            "colorbar": {
             "outlinewidth": 0,
             "ticks": ""
            },
            "colorscale": [
             [
              0,
              "#0d0887"
             ],
             [
              0.1111111111111111,
              "#46039f"
             ],
             [
              0.2222222222222222,
              "#7201a8"
             ],
             [
              0.3333333333333333,
              "#9c179e"
             ],
             [
              0.4444444444444444,
              "#bd3786"
             ],
             [
              0.5555555555555556,
              "#d8576b"
             ],
             [
              0.6666666666666666,
              "#ed7953"
             ],
             [
              0.7777777777777778,
              "#fb9f3a"
             ],
             [
              0.8888888888888888,
              "#fdca26"
             ],
             [
              1,
              "#f0f921"
             ]
            ],
            "type": "histogram2dcontour"
           }
          ],
          "mesh3d": [
           {
            "colorbar": {
             "outlinewidth": 0,
             "ticks": ""
            },
            "type": "mesh3d"
           }
          ],
          "parcoords": [
           {
            "line": {
             "colorbar": {
              "outlinewidth": 0,
              "ticks": ""
             }
            },
            "type": "parcoords"
           }
          ],
          "pie": [
           {
            "automargin": true,
            "type": "pie"
           }
          ],
          "scatter": [
           {
            "fillpattern": {
             "fillmode": "overlay",
             "size": 10,
             "solidity": 0.2
            },
            "type": "scatter"
           }
          ],
          "scatter3d": [
           {
            "line": {
             "colorbar": {
              "outlinewidth": 0,
              "ticks": ""
             }
            },
            "marker": {
             "colorbar": {
              "outlinewidth": 0,
              "ticks": ""
             }
            },
            "type": "scatter3d"
           }
          ],
          "scattercarpet": [
           {
            "marker": {
             "colorbar": {
              "outlinewidth": 0,
              "ticks": ""
             }
            },
            "type": "scattercarpet"
           }
          ],
          "scattergeo": [
           {
            "marker": {
             "colorbar": {
              "outlinewidth": 0,
              "ticks": ""
             }
            },
            "type": "scattergeo"
           }
          ],
          "scattergl": [
           {
            "marker": {
             "colorbar": {
              "outlinewidth": 0,
              "ticks": ""
             }
            },
            "type": "scattergl"
           }
          ],
          "scattermapbox": [
           {
            "marker": {
             "colorbar": {
              "outlinewidth": 0,
              "ticks": ""
             }
            },
            "type": "scattermapbox"
           }
          ],
          "scatterpolar": [
           {
            "marker": {
             "colorbar": {
              "outlinewidth": 0,
              "ticks": ""
             }
            },
            "type": "scatterpolar"
           }
          ],
          "scatterpolargl": [
           {
            "marker": {
             "colorbar": {
              "outlinewidth": 0,
              "ticks": ""
             }
            },
            "type": "scatterpolargl"
           }
          ],
          "scatterternary": [
           {
            "marker": {
             "colorbar": {
              "outlinewidth": 0,
              "ticks": ""
             }
            },
            "type": "scatterternary"
           }
          ],
          "surface": [
           {
            "colorbar": {
             "outlinewidth": 0,
             "ticks": ""
            },
            "colorscale": [
             [
              0,
              "#0d0887"
             ],
             [
              0.1111111111111111,
              "#46039f"
             ],
             [
              0.2222222222222222,
              "#7201a8"
             ],
             [
              0.3333333333333333,
              "#9c179e"
             ],
             [
              0.4444444444444444,
              "#bd3786"
             ],
             [
              0.5555555555555556,
              "#d8576b"
             ],
             [
              0.6666666666666666,
              "#ed7953"
             ],
             [
              0.7777777777777778,
              "#fb9f3a"
             ],
             [
              0.8888888888888888,
              "#fdca26"
             ],
             [
              1,
              "#f0f921"
             ]
            ],
            "type": "surface"
           }
          ],
          "table": [
           {
            "cells": {
             "fill": {
              "color": "#EBF0F8"
             },
             "line": {
              "color": "white"
             }
            },
            "header": {
             "fill": {
              "color": "#C8D4E3"
             },
             "line": {
              "color": "white"
             }
            },
            "type": "table"
           }
          ]
         },
         "layout": {
          "annotationdefaults": {
           "arrowcolor": "#2a3f5f",
           "arrowhead": 0,
           "arrowwidth": 1
          },
          "autotypenumbers": "strict",
          "coloraxis": {
           "colorbar": {
            "outlinewidth": 0,
            "ticks": ""
           }
          },
          "colorscale": {
           "diverging": [
            [
             0,
             "#8e0152"
            ],
            [
             0.1,
             "#c51b7d"
            ],
            [
             0.2,
             "#de77ae"
            ],
            [
             0.3,
             "#f1b6da"
            ],
            [
             0.4,
             "#fde0ef"
            ],
            [
             0.5,
             "#f7f7f7"
            ],
            [
             0.6,
             "#e6f5d0"
            ],
            [
             0.7,
             "#b8e186"
            ],
            [
             0.8,
             "#7fbc41"
            ],
            [
             0.9,
             "#4d9221"
            ],
            [
             1,
             "#276419"
            ]
           ],
           "sequential": [
            [
             0,
             "#0d0887"
            ],
            [
             0.1111111111111111,
             "#46039f"
            ],
            [
             0.2222222222222222,
             "#7201a8"
            ],
            [
             0.3333333333333333,
             "#9c179e"
            ],
            [
             0.4444444444444444,
             "#bd3786"
            ],
            [
             0.5555555555555556,
             "#d8576b"
            ],
            [
             0.6666666666666666,
             "#ed7953"
            ],
            [
             0.7777777777777778,
             "#fb9f3a"
            ],
            [
             0.8888888888888888,
             "#fdca26"
            ],
            [
             1,
             "#f0f921"
            ]
           ],
           "sequentialminus": [
            [
             0,
             "#0d0887"
            ],
            [
             0.1111111111111111,
             "#46039f"
            ],
            [
             0.2222222222222222,
             "#7201a8"
            ],
            [
             0.3333333333333333,
             "#9c179e"
            ],
            [
             0.4444444444444444,
             "#bd3786"
            ],
            [
             0.5555555555555556,
             "#d8576b"
            ],
            [
             0.6666666666666666,
             "#ed7953"
            ],
            [
             0.7777777777777778,
             "#fb9f3a"
            ],
            [
             0.8888888888888888,
             "#fdca26"
            ],
            [
             1,
             "#f0f921"
            ]
           ]
          },
          "colorway": [
           "#636efa",
           "#EF553B",
           "#00cc96",
           "#ab63fa",
           "#FFA15A",
           "#19d3f3",
           "#FF6692",
           "#B6E880",
           "#FF97FF",
           "#FECB52"
          ],
          "font": {
           "color": "#2a3f5f"
          },
          "geo": {
           "bgcolor": "white",
           "lakecolor": "white",
           "landcolor": "#E5ECF6",
           "showlakes": true,
           "showland": true,
           "subunitcolor": "white"
          },
          "hoverlabel": {
           "align": "left"
          },
          "hovermode": "closest",
          "mapbox": {
           "style": "light"
          },
          "paper_bgcolor": "white",
          "plot_bgcolor": "#E5ECF6",
          "polar": {
           "angularaxis": {
            "gridcolor": "white",
            "linecolor": "white",
            "ticks": ""
           },
           "bgcolor": "#E5ECF6",
           "radialaxis": {
            "gridcolor": "white",
            "linecolor": "white",
            "ticks": ""
           }
          },
          "scene": {
           "xaxis": {
            "backgroundcolor": "#E5ECF6",
            "gridcolor": "white",
            "gridwidth": 2,
            "linecolor": "white",
            "showbackground": true,
            "ticks": "",
            "zerolinecolor": "white"
           },
           "yaxis": {
            "backgroundcolor": "#E5ECF6",
            "gridcolor": "white",
            "gridwidth": 2,
            "linecolor": "white",
            "showbackground": true,
            "ticks": "",
            "zerolinecolor": "white"
           },
           "zaxis": {
            "backgroundcolor": "#E5ECF6",
            "gridcolor": "white",
            "gridwidth": 2,
            "linecolor": "white",
            "showbackground": true,
            "ticks": "",
            "zerolinecolor": "white"
           }
          },
          "shapedefaults": {
           "line": {
            "color": "#2a3f5f"
           }
          },
          "ternary": {
           "aaxis": {
            "gridcolor": "white",
            "linecolor": "white",
            "ticks": ""
           },
           "baxis": {
            "gridcolor": "white",
            "linecolor": "white",
            "ticks": ""
           },
           "bgcolor": "#E5ECF6",
           "caxis": {
            "gridcolor": "white",
            "linecolor": "white",
            "ticks": ""
           }
          },
          "title": {
           "x": 0.05
          },
          "xaxis": {
           "automargin": true,
           "gridcolor": "white",
           "linecolor": "white",
           "ticks": "",
           "title": {
            "standoff": 15
           },
           "zerolinecolor": "white",
           "zerolinewidth": 2
          },
          "yaxis": {
           "automargin": true,
           "gridcolor": "white",
           "linecolor": "white",
           "ticks": "",
           "title": {
            "standoff": 15
           },
           "zerolinecolor": "white",
           "zerolinewidth": 2
          }
         }
        },
        "width": 700,
        "xaxis": {
         "anchor": "y",
         "domain": [
          0,
          0.95
         ],
         "fixedrange": false,
         "mirror": false,
         "showgrid": false,
         "showline": false,
         "showticklabels": false,
         "type": "linear",
         "zeroline": false
        },
        "xaxis10": {
         "anchor": "y10",
         "domain": [
          0.15833333333333333,
          0.15833333333333333
         ],
         "fixedrange": false,
         "mirror": false,
         "showgrid": false,
         "showline": false,
         "showticklabels": false,
         "type": "linear",
         "zeroline": false
        },
        "xaxis11": {
         "anchor": "y11",
         "domain": [
          0.15833333333333333,
          0.95
         ],
         "fixedrange": false,
         "mirror": false,
         "range": [
          0,
          130
         ],
         "showgrid": false,
         "showline": false,
         "showticklabels": true,
         "side": "bottom",
         "tickmode": "array",
         "ticktext": [
          "Shannon",
          "Chao1",
          "Simpson",
          "Observed",
          "Faith",
          "Pielou",
          "ACE",
          "Magalef",
          "fisher",
          "Gini",
          "Berger-Parker",
          "Jost",
          "Reyni"
         ],
         "tickvals": [
          5,
          15,
          25,
          35,
          45,
          55,
          65,
          75,
          85,
          95,
          105,
          115,
          125
         ],
         "type": "linear",
         "zeroline": false
        },
        "xaxis12": {
         "anchor": "y12",
         "domain": [
          0.95,
          1
         ],
         "fixedrange": false,
         "mirror": false,
         "range": [
          -5,
          1
         ],
         "showgrid": false,
         "showline": false,
         "showticklabels": false,
         "type": "linear",
         "zeroline": false
        },
        "xaxis13": {
         "anchor": "y13",
         "domain": [
          0,
          0.2
         ]
        },
        "xaxis14": {
         "anchor": "y14",
         "domain": [
          0.2,
          0.4
         ]
        },
        "xaxis15": {
         "anchor": "y15",
         "domain": [
          0.15833333333333333,
          0.95
         ],
         "fixedrange": false,
         "mirror": false,
         "range": [
          5,
          125
         ],
         "scaleanchor": "x11",
         "scaleratio": 1,
         "showgrid": false,
         "showline": false,
         "showticklabels": false,
         "type": "linear",
         "zeroline": false
        },
        "xaxis16": {
         "anchor": "y16",
         "domain": [
          0.8,
          1
         ]
        },
        "xaxis2": {
         "anchor": "y2",
         "domain": [
          0.2,
          0.4
         ]
        },
        "xaxis3": {
         "anchor": "y9",
         "domain": [
          0.15833333333333333,
          0.95
         ],
         "fixedrange": false,
         "mirror": false,
         "scaleanchor": "x11",
         "showgrid": false,
         "showline": false,
         "showticklabels": false,
         "type": "linear",
         "zeroline": false
        },
        "xaxis4": {
         "anchor": "y4",
         "domain": [
          0.8,
          1
         ]
        },
        "xaxis5": {
         "anchor": "y5",
         "domain": [
          0,
          0.95
         ],
         "fixedrange": false,
         "mirror": false,
         "showgrid": false,
         "showline": false,
         "showticklabels": false,
         "type": "linear",
         "zeroline": false
        },
        "xaxis6": {
         "anchor": "y6",
         "domain": [
          0.2,
          0.4
         ],
         "fixedrange": false,
         "mirror": false,
         "showgrid": false,
         "showline": false,
         "showticklabels": false,
         "type": "linear",
         "zeroline": false
        },
        "xaxis7": {
         "anchor": "y9",
         "domain": [
          0.15833333333333333,
          0.95
         ],
         "fixedrange": false,
         "mirror": false,
         "showgrid": false,
         "showline": false,
         "showticklabels": false,
         "type": "linear",
         "zeroline": false
        },
        "xaxis8": {
         "anchor": "y8",
         "domain": [
          0.8,
          1
         ]
        },
        "xaxis9": {
         "anchor": "y9",
         "domain": [
          0,
          0.15833333333333333
         ],
         "fixedrange": false,
         "mirror": false,
         "showgrid": false,
         "showline": false,
         "showticklabels": false,
         "type": "linear",
         "zeroline": false
        },
        "yaxis": {
         "anchor": "x",
         "domain": [
          0.8416666666666667,
          1
         ],
         "fixedrange": false,
         "mirror": false,
         "showgrid": false,
         "showline": false,
         "showticklabels": false,
         "type": "linear",
         "zeroline": false
        },
        "yaxis10": {
         "anchor": "x10",
         "domain": [
          0,
          0.8416666666666667
         ],
         "fixedrange": false,
         "mirror": false,
         "showgrid": false,
         "showline": false,
         "showticklabels": false,
         "type": "linear",
         "zeroline": false
        },
        "yaxis11": {
         "anchor": "x11",
         "domain": [
          0,
          0.8416666666666667
         ],
         "fixedrange": false,
         "mirror": false,
         "showgrid": false,
         "showline": false,
         "showticklabels": true,
         "side": "right",
         "tickmode": "array",
         "tickvals": [
          5,
          15,
          25,
          35,
          45,
          55,
          65,
          75,
          85,
          95,
          105,
          115,
          125,
          135,
          145,
          155,
          165,
          175,
          185,
          195,
          205,
          215,
          225,
          235,
          245,
          255,
          265,
          275,
          285,
          295,
          305,
          315,
          325,
          335,
          345,
          355,
          365,
          375,
          385,
          395,
          405,
          415,
          425,
          435,
          445,
          455,
          465,
          475,
          485,
          495,
          505,
          515,
          525,
          535,
          545,
          555,
          565,
          575,
          585,
          595,
          605,
          615,
          625,
          635,
          645,
          655,
          665,
          675
         ],
         "type": "linear",
         "zeroline": false
        },
        "yaxis12": {
         "anchor": "x12",
         "domain": [
          0,
          0.7916666666666666
         ],
         "fixedrange": false,
         "mirror": false,
         "range": [
          5,
          675
         ],
         "scaleanchor": "y11",
         "scaleratio": 1,
         "showgrid": false,
         "showline": false,
         "showticklabels": false,
         "type": "linear",
         "zeroline": false
        },
        "yaxis13": {
         "anchor": "x13",
         "domain": [
          0,
          0.2
         ]
        },
        "yaxis14": {
         "anchor": "x14",
         "domain": [
          0,
          0.2
         ]
        },
        "yaxis15": {
         "anchor": "x15",
         "domain": [
          0.7916666666666666,
          0.8416666666666667
         ],
         "fixedrange": false,
         "mirror": false,
         "range": [
          -0.5,
          0.5
         ],
         "showgrid": false,
         "showline": false,
         "showticklabels": false,
         "type": "linear",
         "zeroline": false
        },
        "yaxis16": {
         "anchor": "x16",
         "domain": [
          0,
          0.2
         ]
        },
        "yaxis2": {
         "anchor": "x2",
         "domain": [
          0.8,
          1
         ]
        },
        "yaxis3": {
         "anchor": "x3",
         "domain": [
          0.8416666666666667,
          1
         ],
         "fixedrange": false,
         "mirror": false,
         "range": [
          0,
          295.3286305118418
         ],
         "showgrid": false,
         "showline": false,
         "showticklabels": false,
         "type": "linear",
         "zeroline": false
        },
        "yaxis4": {
         "anchor": "x4",
         "domain": [
          0.8,
          1
         ]
        },
        "yaxis5": {
         "anchor": "x5",
         "domain": [
          0.8416666666666667,
          0.8416666666666667
         ],
         "fixedrange": false,
         "mirror": false,
         "showgrid": false,
         "showline": false,
         "showticklabels": false,
         "type": "linear",
         "zeroline": false
        },
        "yaxis6": {
         "anchor": "x6",
         "domain": [
          0.8416666666666667,
          0.8416666666666667
         ],
         "fixedrange": false,
         "mirror": false,
         "showgrid": false,
         "showline": false,
         "showticklabels": false,
         "type": "linear",
         "zeroline": false
        },
        "yaxis7": {
         "anchor": "x7",
         "domain": [
          0.8416666666666667,
          0.8416666666666667
         ],
         "fixedrange": false,
         "mirror": false,
         "showgrid": false,
         "showline": false,
         "showticklabels": false,
         "type": "linear",
         "zeroline": false
        },
        "yaxis8": {
         "anchor": "x8",
         "domain": [
          0.6000000000000001,
          0.8
         ]
        },
        "yaxis9": {
         "anchor": "x9",
         "domain": [
          0,
          0.8416666666666667
         ],
         "fixedrange": false,
         "mirror": false,
         "range": [
          5,
          675
         ],
         "scaleanchor": "y11",
         "showgrid": false,
         "showline": false,
         "showticklabels": false,
         "type": "linear",
         "zeroline": false
        }
       }
      }
     },
     "metadata": {},
     "output_type": "display_data"
    }
   ],
   "source": [
    "import plotly.express as px\n",
    "import dash_bio\n",
    "\n",
    "tmp_df = df.drop(columns=['Link','Cod']).fillna(0)\n",
    "dash_bio.Clustergram(data=tmp_df, column_labels=list(tmp_df.columns.values),\n",
    "    height=800,\n",
    "    width=700)"
   ]
  },
  {
   "cell_type": "code",
   "execution_count": 69,
   "metadata": {},
   "outputs": [
    {
     "data": {
      "image/png": "[encoded data removed]",
      "text/plain": [
       "<Figure size 1000x1000 with 3 Axes>"
      ]
     },
     "metadata": {},
     "output_type": "display_data"
    }
   ],
   "source": [
    "import seaborn as sns\n",
    "\n",
    "df = source_df\n",
    "df = df.drop(columns=['Link','Cod'])\n",
    "df = df.mask(df>1, 1)\n",
    "df = df.fillna(0)\n",
    "df.head()\n",
    "g = sns.clustermap(df, cmap = sns.color_palette(\"light:#5A9\"), cbar_pos=None)"
   ]
  },
  {
   "cell_type": "code",
   "execution_count": 74,
   "metadata": {},
   "outputs": [
    {
     "data": {
      "image/png": "[encoded data removed]",
      "text/plain": [
       "<Figure size 700x1300 with 1 Axes>"
      ]
     },
     "metadata": {},
     "output_type": "display_data"
    }
   ],
   "source": [
    "import matplotlib.pyplot as plt\n",
    "fig, ax = plt.subplots(figsize=(7,13)) \n",
    "sfig = sns.heatmap(df, cmap = sns.color_palette(\"light:#5A9\"),linewidths=.2, cbar=False, ax=ax)\n",
    "sfig.get_figure().savefig(\"Heatmap\")"
   ]
  },
  {
   "cell_type": "code",
   "execution_count": null,
   "metadata": {},
   "outputs": [],
   "source": []
  }
 ],
 "metadata": {
  "kernelspec": {
   "display_name": "Python 3.9.12 ('base')",
   "language": "python",
   "name": "python3"
  },
  "language_info": {
   "codemirror_mode": {
    "name": "ipython",
    "version": 3
   },
   "file_extension": ".py",
   "mimetype": "text/x-python",
   "name": "python",
   "nbconvert_exporter": "python",
   "pygments_lexer": "ipython3",
   "version": "3.9.13"
  },
  "orig_nbformat": 4,
  "vscode": {
   "interpreter": {
    "hash": "4625609b0c57dd1fed89523c2ad4bbd3290739106c75dca32f93b64b4150479c"
   }
  }
 },
 "nbformat": 4,
 "nbformat_minor": 2
}
