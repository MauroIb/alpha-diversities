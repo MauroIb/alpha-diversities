{
 "cells": [
  {
   "cell_type": "markdown",
   "metadata": {},
   "source": [
    "# Figuras de tesis"
   ]
  },
  {
   "cell_type": "code",
   "execution_count": null,
   "metadata": {},
   "outputs": [],
   "source": [
    "import pandas as pd\n",
    "# Run this cell before any others\n",
    "# Load aggregated alpha_diversity table\n",
    "diversities = pd.read_csv('alpha_aggregated.tsv', sep = '\\t')\n",
    "\n",
    "# Create list with selected metrics\n",
    "metrics = ['ace', 'berger_parker_d', 'brillouin_d', 'chao1', 'enspie', 'fisher_alpha', 'gini_index', 'heip_e', 'margalef',\n",
    " 'mcintosh_d', 'menhinick', 'faith_pd','observed_features', 'robbins','pielou_evenness', 'shannon_entropy', 'simpson', 'strong']\n",
    "stats = diversities.describe()[metrics]\n",
    "display(stats)"
   ]
  },
  {
   "cell_type": "markdown",
   "metadata": {},
   "source": [
    "## Key Factors\n",
    "\n",
    "#### Richness"
   ]
  },
  {
   "cell_type": "code",
   "execution_count": null,
   "metadata": {},
   "outputs": [],
   "source": [
    "import plotly.express as px\n",
    "\n",
    "config = {\n",
    "  'toImageButtonOptions': { 'height': None, 'width': None, }\n",
    "}\n"
   ]
  },
  {
   "cell_type": "code",
   "execution_count": null,
   "metadata": {},
   "outputs": [],
   "source": [
    "import plotly.express as px\n",
    "\n",
    "## GRAFICO AC03: Cada gráfico corresponde a una métrica de alfa diversidad diferente, cuyo valor se encuentra en el eje Y. El eje X presenta el número de singletons presentes en cada muestra. \n",
    "\n",
    "category = 'dataset'\n",
    "figbox = px.scatter(diversities, y=metrics, x = 'observed_features',\n",
    "             facet_col =\"variable\", \n",
    "            color = 'dataset',\n",
    "            facet_col_wrap=3,\n",
    "            facet_row_spacing=0.03,\n",
    "            facet_col_spacing=0.04,\n",
    "            height=1600, width = 1000)\n",
    "figbox.update_yaxes(matches=None)\n",
    "figbox.update_traces(marker=dict(size=5))\n",
    "figbox.for_each_annotation(lambda a: a.update(text=a.text.split(\"=\")[-1]))\n",
    "figbox.update_yaxes(showticklabels=True,)\n",
    "figbox.update_xaxes(showticklabels=True)\n",
    "figbox.show(config=config)\n",
    "figbox.write_image('ASV_todos.png', scale=2)"
   ]
  },
  {
   "cell_type": "markdown",
   "metadata": {},
   "source": [
    "#### Correlacion con Singletons"
   ]
  },
  {
   "cell_type": "code",
   "execution_count": null,
   "metadata": {},
   "outputs": [],
   "source": [
    "import plotly.express as px\n",
    "\n",
    "## GRAFICO AC04: Cada gráfico corresponde a una métrica de alfa diversidad diferente, cuyo valor se encuentra en el eje Y. El eje X presenta el número de singletons presentes en cada muestra. \n",
    "\n",
    "category = 'dataset'\n",
    "figbox = px.scatter(diversities, y=metrics, x = 'singles',\n",
    "             facet_col =\"variable\", \n",
    "            color = 'dataset',\n",
    "            facet_col_wrap=3,\n",
    "            facet_row_spacing=0.03,\n",
    "            facet_col_spacing=0.04,\n",
    "            height=1600, width = 1000)\n",
    "figbox.update_yaxes(matches=None)\n",
    "figbox.update_traces(marker=dict(size=5))\n",
    "figbox.for_each_annotation(lambda a: a.update(text=a.text.split(\"=\")[-1]))\n",
    "figbox.update_yaxes(showticklabels=True,)\n",
    "figbox.update_xaxes(showticklabels=True)\n",
    "figbox.show(config=config)\n",
    "\n",
    "figbox.write_image(\"SINGLE_TODOS.png\", scale = 2)"
   ]
  },
  {
   "cell_type": "markdown",
   "metadata": {},
   "source": [
    "# Singletons\n",
    "\n",
    "### ASVs vs Singletons\n",
    "\n",
    "\n",
    "##### ASVs vs Singletons, information metrics"
   ]
  },
  {
   "cell_type": "code",
   "execution_count": null,
   "metadata": {},
   "outputs": [],
   "source": [
    "import plotly.express as px\n",
    "from plotly.subplots import make_subplots\n",
    "import plotly.graph_objects as go\n",
    "\n",
    "## GRAFICO AC0\n",
    "\n",
    "m1 = ['brillouin_d',  'heip_e',  'pielou_evenness', 'shannon_entropy']\n",
    "fig = make_subplots(\n",
    "    rows=2, cols=2,\n",
    "    subplot_titles=(\"brillouin_d\", 'heip_e', 'pielou_evenness',  'shannon_entropy'),\n",
    "    vertical_spacing=0.1, shared_yaxes=True,\n",
    "    x_title='ASVs',\n",
    "    y_title='Singletons')\n",
    "    \n",
    "x_axis = diversities['observed_features']\n",
    "y_axis = diversities['singles']\n",
    "df = diversities[m1]\n",
    "norm = (df-df.min())/(df.max()-df.min())\n",
    "\n",
    "fig.add_trace(go.Scatter(y=y_axis, x=x_axis, mode='markers',\n",
    " marker = dict (color = norm['brillouin_d'], colorscale = 'RdBu')), row = 1, col= 1)\n",
    "\n",
    "fig.add_trace(go.Scatter(y=y_axis, x=x_axis, mode='markers',\n",
    " marker = dict (color = norm['heip_e'], colorscale = 'RdBu' )), row = 1, col= 2)\n",
    "\n",
    "fig.add_trace(go.Scatter(y=y_axis, x=x_axis, mode='markers',\n",
    " marker = dict (color = norm['pielou_evenness'] , colorscale = 'RdBu') ), row = 2, col= 1)\n",
    "\n",
    "fig.add_trace(go.Scatter(y=y_axis, x=x_axis, mode='markers',\n",
    " marker = dict (color = norm['shannon_entropy'], colorscale = 'RdBu', showscale=True) , name =  'Valor de Metrica'), row = 2, col= 2)\n",
    "\n",
    "fig['layout'].update(height=900, width=900,\n",
    "    showlegend=False  )\n",
    "\n",
    "\n",
    "fig.show()\n",
    "#fig.write_image(\"ASV_SINGLE_info.png\", scale = 2)"
   ]
  },
  {
   "cell_type": "markdown",
   "metadata": {},
   "source": [
    "##### ASVs vs Singletons, dominance metrics"
   ]
  },
  {
   "cell_type": "code",
   "execution_count": null,
   "metadata": {},
   "outputs": [],
   "source": [
    "import plotly.express as px\n",
    "from plotly.subplots import make_subplots\n",
    "import plotly.graph_objects as go\n",
    "\n",
    "## GRAFICO AC06\n",
    "\n",
    "m3 = [ 'berger_parker_d' , 'dominance', 'enspie',  'gini_index', 'strong' ,  'mcintosh_d', 'simpson']\n",
    "fig = make_subplots(\n",
    "    rows=4, cols=2,\n",
    "    subplot_titles=('berger_parker_d' , 'dominance', 'enspie',  'gini_index', 'strong' ,  'mcintosh_d', 'simpson'),\n",
    "    vertical_spacing=0.1, shared_yaxes=True,\n",
    "    x_title='ASVs',\n",
    "    y_title='Singletons')\n",
    "    \n",
    "x_axis = diversities['observed_features']\n",
    "y_axis = diversities['singles']\n",
    "df = diversities[m3]\n",
    "norm = (df-df.min())/(df.max()-df.min())\n",
    "\n",
    "fig.add_trace(go.Scatter(y=y_axis, x=x_axis, mode='markers',\n",
    " marker = dict (color = norm['berger_parker_d'], colorscale = 'RdBu') ), row = 1, col= 1)\n",
    "\n",
    "fig.add_trace(go.Scatter(y=y_axis, x=x_axis, mode='markers',\n",
    " marker = dict (color = norm['dominance'], colorscale = 'RdBu' )), row = 1, col= 2)\n",
    "\n",
    "fig.add_trace(go.Scatter(y=y_axis, x=x_axis, mode='markers',\n",
    " marker = dict (color = norm['enspie'], colorscale = 'RdBu' ) ), row = 2, col= 1)\n",
    "\n",
    "fig.add_trace(go.Scatter(y=y_axis, x=x_axis, mode='markers',\n",
    " marker = dict (color = norm['gini_index'], colorscale = 'RdBu') ), row = 2, col= 2)\n",
    "\n",
    "fig.add_trace(go.Scatter(y=y_axis, x=x_axis, mode='markers',\n",
    " marker = dict (color = norm['strong'], colorscale = 'RdBu', showscale=True) ), row = 3, col= 1)\n",
    "\n",
    "fig.add_trace(go.Scatter(y=y_axis, x=x_axis, mode='markers',\n",
    " marker = dict (color = norm['mcintosh_d'], colorscale = 'RdBu') ), row = 3, col= 2)\n",
    "\n",
    "fig.add_trace(go.Scatter(y=y_axis, x=x_axis, mode='markers',\n",
    " marker = dict (color = norm['simpson'], colorscale = 'RdBu') ), row = 4, col= 1)\n",
    "\n",
    "fig['layout'].update(height=1200, width=900,\n",
    "    showlegend=False)\n",
    "\n",
    "\n",
    "fig.show()\n",
    "#fig.write_image(\"ASV_SINGLE_domin.png\", scale = 2)"
   ]
  },
  {
   "cell_type": "markdown",
   "metadata": {},
   "source": [
    "##### ASVs vs Singletons, abundance metrics"
   ]
  },
  {
   "cell_type": "code",
   "execution_count": null,
   "metadata": {},
   "outputs": [],
   "source": [
    "import plotly.express as px\n",
    "from plotly.subplots import make_subplots\n",
    "import plotly.graph_objects as go\n",
    "\n",
    "#Grafico AC05\n",
    "\n",
    "m3 = [ 'berger_parker_d' , 'dominance', 'enspie',  'gini_index', 'strong' ,  'mcintosh_d', 'simpson']\n",
    "fig = make_subplots(\n",
    "    rows=4, cols=2,\n",
    "    subplot_titles=('berger_parker_d' , 'dominance', 'enspie',  'gini_index', 'strong' ,  'mcintosh_d', 'simpson'),\n",
    "    vertical_spacing=0.1, shared_yaxes=True,\n",
    "    x_title='ASVs',\n",
    "    y_title='Singletons')\n",
    "    \n",
    "x_axis = diversities['observed_features']\n",
    "y_axis = diversities['singles']\n",
    "df = diversities[m3]\n",
    "norm = (df-df.min())/(df.max()-df.min())\n",
    "\n",
    "fig.add_trace(go.Scatter(y=y_axis, x=x_axis, mode='markers',\n",
    " marker = dict (color = norm['berger_parker_d'], colorscale = 'RdBu') ), row = 1, col= 1)\n",
    "\n",
    "fig.add_trace(go.Scatter(y=y_axis, x=x_axis, mode='markers',\n",
    " marker = dict (color = norm['dominance'], colorscale = 'RdBu' )), row = 1, col= 2)\n",
    "\n",
    "fig.add_trace(go.Scatter(y=y_axis, x=x_axis, mode='markers',\n",
    " marker = dict (color = norm['enspie'], colorscale = 'RdBu' ) ), row = 2, col= 1)\n",
    "\n",
    "fig.add_trace(go.Scatter(y=y_axis, x=x_axis, mode='markers',\n",
    " marker = dict (color = norm['gini_index'], colorscale = 'RdBu') ), row = 2, col= 2)\n",
    "\n",
    "fig.add_trace(go.Scatter(y=y_axis, x=x_axis, mode='markers',\n",
    " marker = dict (color = norm['strong'], colorscale = 'RdBu', showscale=True) ), row = 3, col= 1)\n",
    "\n",
    "fig.add_trace(go.Scatter(y=y_axis, x=x_axis, mode='markers',\n",
    " marker = dict (color = norm['mcintosh_d'], colorscale = 'RdBu') ), row = 3, col= 2)\n",
    "\n",
    "fig.add_trace(go.Scatter(y=y_axis, x=x_axis, mode='markers',\n",
    " marker = dict (color = norm['simpson'], colorscale = 'RdBu') ), row = 4, col= 1)\n",
    "\n",
    "fig['layout'].update(height=1200, width=900,\n",
    "    showlegend=False)\n",
    "\n",
    "\n",
    "fig.show()\n",
    "fig.write_image(\"ASV_SINGLE_domin.png\", scale = 2)"
   ]
  },
  {
   "cell_type": "markdown",
   "metadata": {},
   "source": [
    "#### AC09 Correlacion lineal "
   ]
  },
  {
   "cell_type": "code",
   "execution_count": null,
   "metadata": {},
   "outputs": [],
   "source": [
    "import plotly.express as px\n",
    "\n",
    "# AC09\n",
    "\n",
    "fig = px.scatter(diversities, x='observed_features', y='singles',color = 'folder', trendline_color_override = 'red',  trendline=\"ols\", height = 600, width = 800,\n",
    "title = 'Modelos de regresion lineal entre ASVs y Singletons para cada dataset')\n",
    "fig.show()\n",
    "#fig.write_image('ASV_SINGLE_linregs.png', scale = 2)"
   ]
  },
  {
   "cell_type": "code",
   "execution_count": null,
   "metadata": {},
   "outputs": [],
   "source": [
    "## Additional code to extract model values\n",
    "\n",
    "datasets = diversities.folder.unique()\n",
    "results = px.get_trendline_results(fig)\n",
    "rs = [(x.rsquared, x.pvalues) for x in results.px_fit_results.iloc[:]]\n",
    "df = pd.DataFrame(rs, columns= ['r_squared', 'p_vals'], index = datasets)\n",
    "df[['pval1', 'pval2']] = df['p_vals'].to_list()\n",
    "df.drop(columns='p_vals', inplace = True)\n",
    "display(df)\n",
    "#df.to_csv('corr_lin.tsv', sep='\\t')"
   ]
  },
  {
   "cell_type": "markdown",
   "metadata": {},
   "source": [
    "#### AC08: ASV Singles faith"
   ]
  },
  {
   "cell_type": "code",
   "execution_count": null,
   "metadata": {},
   "outputs": [],
   "source": [
    "import plotly.express as px\n",
    "from plotly.subplots import make_subplots\n",
    "import plotly.graph_objects as go\n",
    "\n",
    "#Grafico AC08\n",
    "\n",
    "m1 = ['faith_pd']\n",
    "fig = make_subplots(\n",
    "    rows=1, cols=1,\n",
    "    subplot_titles=(\"faith_pd\"),\n",
    "    vertical_spacing=0.1, shared_yaxes=True,\n",
    "    x_title='ASVs',\n",
    "    y_title='Singletons')\n",
    "    \n",
    "x_axis = diversities['observed_features']\n",
    "y_axis = diversities['singles']\n",
    "df = diversities[m1]\n",
    "norm = (df-df.min())/(df.max()-df.min())\n",
    "\n",
    "fig.add_trace(go.Scatter(y=y_axis, x=x_axis, mode='markers',\n",
    " marker = dict (color = norm['faith_pd'], colorscale = 'RdBu', showscale=True) , name =  'Valor de Metrica'), row = 1, col= 1)\n",
    "\n",
    "fig['layout'].update(height=600, width=600,\n",
    "    showlegend=False  )\n",
    "\n",
    "fig.show()\n",
    "fig.write_image(\"ASV_SINGLE_faith.png\", scale = 2)"
   ]
  },
  {
   "cell_type": "markdown",
   "metadata": {},
   "source": [
    "### AB01"
   ]
  },
  {
   "cell_type": "code",
   "execution_count": null,
   "metadata": {},
   "outputs": [],
   "source": [
    "import seaborn as sns\n",
    "\n",
    "# AB02: Correlacion entre abundancia\n",
    "\n",
    "m2 = ['ace', 'chao1' ,  'menhinick' , 'robbins', 'margalef' , 'fisher_alpha']\n",
    "scatter = sns.pairplot(diversities, hue='folder', vars=m2, corner=True)\n",
    "scatter.fig.suptitle(f\"Correlaciones entre metricas de abundancia\",y=1.01)\n",
    "#scatter.savefig('corr_abun.png',facecolor='white', transparent=False, dpi=500)"
   ]
  },
  {
   "cell_type": "markdown",
   "metadata": {},
   "source": [
    "### AB02"
   ]
  },
  {
   "cell_type": "code",
   "execution_count": null,
   "metadata": {},
   "outputs": [],
   "source": [
    "import seaborn as sns\n",
    "import matplotlib.pyplot as plt\n",
    "from scipy.stats import pearsonr\n",
    "# AB02: Correlacion entre abundancia con regresion\n",
    "\n",
    "def r2(x, y, ax=None, **kws):\n",
    "    \"\"\"Plot the correlation coefficient in the top left hand corner of a plot.\"\"\"\n",
    "    r, _ = pearsonr(x, y)\n",
    "    ax = ax or plt.gca()\n",
    "    ax.annotate(f'r² = {r:.2F}', xy=(.1, .9), xycoords=ax.transAxes)\n",
    "\n",
    "g = sns.pairplot(diversities, vars=m2, corner=True,plot_kws={'line_kws':{'color':'red'}, 'scatter_kws': {'alpha': 0.1}}, kind='reg')\n",
    "g.map_lower(r2)"
   ]
  },
  {
   "cell_type": "markdown",
   "metadata": {},
   "source": [
    "### Dominancia : DM01"
   ]
  },
  {
   "cell_type": "code",
   "execution_count": null,
   "metadata": {},
   "outputs": [],
   "source": [
    "import seaborn as sns\n",
    "\n",
    "#DM01\n",
    "\n",
    "m3 = [ 'berger_parker_d' , 'dominance', 'enspie',  'gini_index', 'strong' ,  'mcintosh_d', 'simpson']\n",
    "scatter = sns.pairplot(diversities, hue='dataset', vars=m3, corner = True)\n",
    "#scatter.savefig('DOMINANCIA.png',facecolor='white', transparent=False, dpi=300)"
   ]
  },
  {
   "cell_type": "markdown",
   "metadata": {},
   "source": [
    "All plots involving abundance values are dataset specific. \n",
    "See additional notebook for the code used to create plots DM02 - DM15\n",
    "\n",
    "### Information"
   ]
  },
  {
   "cell_type": "code",
   "execution_count": null,
   "metadata": {},
   "outputs": [],
   "source": [
    "import seaborn as sns\n",
    "\n",
    "#IN01\n",
    "\n",
    "m5 = ['brillouin_d', 'heip_e', 'pielou_evenness', 'shannon_entropy']\n",
    "scatter = sns.pairplot(diversities, hue='dataset', vars=m5, corner = True)\n",
    "#scatter.savefig('MIX.png',facecolor='white', transparent=False, dpi=300)"
   ]
  },
  {
   "cell_type": "markdown",
   "metadata": {},
   "source": [
    "#### IN02. Shannon vs otras metricas"
   ]
  },
  {
   "cell_type": "code",
   "execution_count": null,
   "metadata": {},
   "outputs": [],
   "source": [
    "import plotly.express as px\n",
    "\n",
    "## GRAFICO AC04: Cada gráfico corresponde a una métrica de alfa diversidad diferente, cuyo valor se encuentra en el eje Y. El eje X presenta el número de singletons presentes en cada muestra. \n",
    "category = 'dataset'\n",
    "figbox = px.scatter(diversities, y=metrics, x = 'shannon_entropy',\n",
    "             facet_col =\"variable\", \n",
    "            color = 'dataset',\n",
    "            facet_col_wrap=3,\n",
    "            facet_row_spacing=0.03,\n",
    "            facet_col_spacing=0.04,\n",
    "            height=1600, width = 1000)\n",
    "figbox.update_yaxes(matches=None)\n",
    "figbox.update_traces(marker=dict(size=5))\n",
    "figbox.for_each_annotation(lambda a: a.update(text=a.text.split(\"=\")[-1]))\n",
    "figbox.update_yaxes(showticklabels=True,)\n",
    "figbox.update_xaxes(showticklabels=True)\n",
    "figbox.show(config=config)\n",
    "\n",
    "#figbox.write_image(\"SINGLE_TODOS.png\", scale = 2)"
   ]
  },
  {
   "cell_type": "markdown",
   "metadata": {},
   "source": [
    "#### IN03a Shannon vs faith (dataset)"
   ]
  },
  {
   "cell_type": "code",
   "execution_count": null,
   "metadata": {},
   "outputs": [],
   "source": [
    "import plotly.express as px\n",
    "\n",
    "# Figura IN03a Correlacion entre shannon y faith, color por dataset\n",
    "\n",
    "metrics = ['shannon_entropy']\n",
    "figbox = px.scatter(diversities, x='faith_pd', y='shannon_entropy',\n",
    "            color = 'folder',\n",
    "            title=\"Correlaciones entre las metricas de informacion y un estimador de diversidad filogenetica (Faith)\",\n",
    "            height=600,facet_col_spacing=0.04, width = 900)\n",
    "figbox.show(config=config)"
   ]
  },
  {
   "cell_type": "markdown",
   "metadata": {},
   "source": [
    "#### IN03b Shannon vs faith (ASVs)"
   ]
  },
  {
   "cell_type": "code",
   "execution_count": null,
   "metadata": {},
   "outputs": [],
   "source": [
    "import plotly.express as px\n",
    "\n",
    "# Figura IN03b Correlacion entre shannon y faith, color por dataset\n",
    "\n",
    "metrics = ['shannon_entropy']\n",
    "figbox = px.scatter(diversities, x='faith_pd', y='shannon_entropy',\n",
    "            color = 'observed_features',\n",
    "            title=\"Correlaciones entre las metricas de informacion y un estimador de diversidad filogenetica (Faith)\",\n",
    "            height=600,facet_col_spacing=0.04, width = 900)\n",
    "figbox.show(config=config)"
   ]
  },
  {
   "cell_type": "markdown",
   "metadata": {},
   "source": [
    "### Faith"
   ]
  },
  {
   "cell_type": "code",
   "execution_count": null,
   "metadata": {},
   "outputs": [],
   "source": [
    "import plotly.express as px\n",
    "\n",
    "# Figura FI01 Correlacion entre shannon y faith, color por dataset\n",
    "\n",
    "figbox = px.scatter(diversities, y=metrics, x = 'faith_pd',\n",
    "             facet_col =\"variable\", \n",
    "            color = 'folder',\n",
    "            facet_col_wrap=3,\n",
    "            facet_row_spacing=0.03,\n",
    "            facet_col_spacing=0.04,\n",
    "            height=1600, width = 1000)\n",
    "figbox.update_yaxes(matches=None)\n",
    "figbox.update_traces(marker=dict(size=3))\n",
    "figbox.for_each_annotation(lambda a: a.update(text=a.text.split(\"=\")[-1]))\n",
    "figbox.update_yaxes(showticklabels=True,)\n",
    "figbox.update_xaxes(showticklabels=True)\n",
    "figbox.show(config=config)"
   ]
  },
  {
   "cell_type": "code",
   "execution_count": null,
   "metadata": {},
   "outputs": [],
   "source": []
  }
 ],
 "metadata": {
  "kernelspec": {
   "display_name": "Python 3.8.5 ('base')",
   "language": "python",
   "name": "python3"
  },
  "language_info": {
   "codemirror_mode": {
    "name": "ipython",
    "version": 3
   },
   "file_extension": ".py",
   "mimetype": "text/x-python",
   "name": "python",
   "nbconvert_exporter": "python",
   "pygments_lexer": "ipython3",
   "version": "3.8.5"
  },
  "orig_nbformat": 4,
  "vscode": {
   "interpreter": {
    "hash": "4625609b0c57dd1fed89523c2ad4bbd3290739106c75dca32f93b64b4150479c"
   }
  }
 },
 "nbformat": 4,
 "nbformat_minor": 2
}
